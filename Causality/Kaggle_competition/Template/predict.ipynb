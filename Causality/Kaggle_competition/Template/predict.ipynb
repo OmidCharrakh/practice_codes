{
 "cells": [
  {
   "cell_type": "code",
   "execution_count": 10,
   "metadata": {},
   "outputs": [],
   "source": [
    "import data_io\n",
    "import numpy as np\n",
    "import pickle\n",
    "import pandas as pd"
   ]
  },
  {
   "cell_type": "code",
   "execution_count": 7,
   "metadata": {},
   "outputs": [
    {
     "name": "stdout",
     "output_type": "stream",
     "text": [
      "Reading the valid pairs\n"
     ]
    },
    {
     "name": "stderr",
     "output_type": "stream",
     "text": [
      "/Users/omid/opt/anaconda3/envs/py2/lib/python2.7/site-packages/pandas/core/frame.py:3576: FutureWarning: rename with inplace=True  will return None from pandas 0.11 onward\n",
      "  \" from pandas 0.11 onward\", FutureWarning)\n"
     ]
    },
    {
     "name": "stdout",
     "output_type": "stream",
     "text": [
      "Loading the classifier\n",
      "Making predictions\n"
     ]
    },
    {
     "name": "stderr",
     "output_type": "stream",
     "text": [
      "[Parallel(n_jobs=1)]: Done   1 jobs       | elapsed:    0.0s\n",
      "[Parallel(n_jobs=1)]: Done   1 out of   1 | elapsed:    0.0s finished\n"
     ]
    },
    {
     "name": "stdout",
     "output_type": "stream",
     "text": [
      "Writing predictions to file\n"
     ]
    }
   ],
   "source": [
    "\n",
    "def historic():\n",
    "    print(\"Calculating correlations\")\n",
    "    calculate_pearsonr = lambda row: abs(pearsonr(row[\"A\"], row[\"B\"])[0])\n",
    "    correlations = valid.apply(calculate_pearsonr, axis=1)\n",
    "    correlations = np.array(correlations)\n",
    "\n",
    "    print(\"Calculating causal relations\")\n",
    "    calculate_causal = lambda row: causal_relation(row[\"A\"], row[\"B\"])\n",
    "    causal_relations = valid.apply(calculate_causal, axis=1)\n",
    "    causal_relations = np.array(causal_relations)\n",
    "\n",
    "    scores = correlations * causal_relations\n",
    "\n",
    "def main():\n",
    "    print(\"Reading the valid pairs\") \n",
    "    valid = data_io.read_valid_pairs()\n",
    "\n",
    "    print(\"Loading the classifier\")\n",
    "    classifier = data_io.load_model()\n",
    "\n",
    "    print(\"Making predictions\") \n",
    "    predictions = classifier.predict(valid)\n",
    "    predictions = predictions.flatten()\n",
    "\n",
    "    print(\"Writing predictions to file\")\n",
    "    data_io.write_submission(predictions)\n",
    "\n",
    "if __name__==\"__main__\":\n",
    "    main()"
   ]
  }
 ],
 "metadata": {
  "kernelspec": {
   "display_name": "Python 2",
   "language": "python",
   "name": "python2"
  },
  "language_info": {
   "codemirror_mode": {
    "name": "ipython",
    "version": 2
   },
   "file_extension": ".py",
   "mimetype": "text/x-python",
   "name": "python",
   "nbconvert_exporter": "python",
   "pygments_lexer": "ipython2",
   "version": "2.7.18"
  }
 },
 "nbformat": 4,
 "nbformat_minor": 2
}
