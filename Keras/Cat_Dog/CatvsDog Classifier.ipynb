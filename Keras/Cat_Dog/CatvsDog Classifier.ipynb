{
 "cells": [
  {
   "cell_type": "code",
   "execution_count": 1,
   "metadata": {},
   "outputs": [],
   "source": [
    "import numpy as np\n",
    "import os\n",
    "import cv2\n",
    "import matplotlib.pyplot as plt\n",
    "%matplotlib inline\n",
    "import keras"
   ]
  },
  {
   "cell_type": "code",
   "execution_count": 2,
   "metadata": {},
   "outputs": [],
   "source": [
    "DIRECTORY = r'./Image-Processing/catdog-data/train'\n",
    "\n",
    "CATEGORIES = ['cats', 'dogs']"
   ]
  },
  {
   "cell_type": "code",
   "execution_count": 33,
   "metadata": {
    "scrolled": true
   },
   "outputs": [],
   "source": [
    "data = []\n",
    "\n",
    "for category in CATEGORIES:\n",
    "    path = os.path.join(DIRECTORY, category) #train/dogs and catdog-data/train/cats\n",
    "    for img in os.listdir(path):\n",
    "        img_path = os.path.join(path, img) #train/dogs/dog.0.jpg\n",
    "        label = CATEGORIES.index(category)\n",
    "        arr = cv2.imread(img_path) #read image with colors\n",
    "        #arr = cv2.imread(img_path, cv2.IMREAD_GRAYSCALE) #read images in GrayScale \n",
    "        new_arr = cv2.resize(arr, (100, 100)) #resize image\n",
    "        #plt.imshow(new_arr) \n",
    "        #break\n",
    "        data.append([new_arr, label]) #Assign a label to each image---> data=[feature, label=0,1] "
   ]
  },
  {
   "cell_type": "code",
   "execution_count": 34,
   "metadata": {},
   "outputs": [
    {
     "name": "stdout",
     "output_type": "stream",
     "text": [
      "0\n",
      "1\n"
     ]
    }
   ],
   "source": [
    "#Label of Cats and Dogs are 0 and 1 respectively. Because:\n",
    "\n",
    "print(CATEGORIES.index(\"cats\")) \n",
    "print(CATEGORIES.index(\"dogs\"))"
   ]
  },
  {
   "cell_type": "code",
   "execution_count": 35,
   "metadata": {},
   "outputs": [
    {
     "data": {
      "text/plain": [
       "23000"
      ]
     },
     "execution_count": 35,
     "metadata": {},
     "output_type": "execute_result"
    }
   ],
   "source": [
    "# Total number of images (cats+dogs)\n",
    "\n",
    "len(data)"
   ]
  },
  {
   "cell_type": "code",
   "execution_count": 36,
   "metadata": {},
   "outputs": [
    {
     "data": {
      "text/plain": [
       "0"
      ]
     },
     "execution_count": 36,
     "metadata": {},
     "output_type": "execute_result"
    }
   ],
   "source": [
    "# The 10th image is a cat, because of its label:\n",
    "\n",
    "data[10][1]"
   ]
  },
  {
   "cell_type": "code",
   "execution_count": 37,
   "metadata": {},
   "outputs": [],
   "source": [
    "# We must randomize the images:\n",
    "\n",
    "import random\n",
    "\n",
    "random.shuffle(data)"
   ]
  },
  {
   "cell_type": "code",
   "execution_count": 38,
   "metadata": {},
   "outputs": [],
   "source": [
    "# Let's separate out features and labels and put them in X and Y:\n",
    "\n",
    "X = []\n",
    "y = []\n",
    "\n",
    "for features, label in data:\n",
    "    X.append(features)\n",
    "    y.append(label)\n",
    "    \n",
    "X = np.array(X)\n",
    "y = np.array(y)"
   ]
  },
  {
   "cell_type": "code",
   "execution_count": 39,
   "metadata": {},
   "outputs": [
    {
     "data": {
      "text/plain": [
       "array([0, 0, 1, ..., 0, 1, 0])"
      ]
     },
     "execution_count": 39,
     "metadata": {},
     "output_type": "execute_result"
    }
   ],
   "source": [
    "y"
   ]
  },
  {
   "cell_type": "code",
   "execution_count": 40,
   "metadata": {},
   "outputs": [],
   "source": [
    "# Save the variables in my local computer:\n",
    "\n",
    "import pickle\n",
    "pickle.dump(X, open('X.pkl', 'wb')) # X.pkl is a name for the saved X, wb means Write in Binary\n",
    "pickle.dump(y, open('y.pkl', 'wb'))"
   ]
  },
  {
   "cell_type": "code",
   "execution_count": 41,
   "metadata": {},
   "outputs": [],
   "source": [
    "# Import the saved variable:\n",
    "\n",
    "X = pickle.load(open('X.pkl', 'rb')) # rb means Read in Binary\n",
    "y = pickle.load(open('y.pkl', 'rb'))"
   ]
  },
  {
   "cell_type": "code",
   "execution_count": 42,
   "metadata": {},
   "outputs": [],
   "source": [
    "# Feature Scaling: scale the pixel values 0 < default_pixel < 255\n",
    "\n",
    "X = X/255 "
   ]
  },
  {
   "cell_type": "code",
   "execution_count": 43,
   "metadata": {},
   "outputs": [
    {
     "data": {
      "text/plain": [
       "(23000, 100, 100, 3)"
      ]
     },
     "execution_count": 43,
     "metadata": {},
     "output_type": "execute_result"
    }
   ],
   "source": [
    "X.shape #(image_numbers, lengh, width, number_channels)"
   ]
  },
  {
   "cell_type": "code",
   "execution_count": 44,
   "metadata": {},
   "outputs": [],
   "source": [
    "#X = X.reshape(-1, 60, 60, 1)"
   ]
  },
  {
   "cell_type": "code",
   "execution_count": 45,
   "metadata": {},
   "outputs": [],
   "source": [
    "from keras.models import Sequential\n",
    "from keras.layers import Conv2D, MaxPooling2D, Dense, Flatten"
   ]
  },
  {
   "cell_type": "code",
   "execution_count": 46,
   "metadata": {},
   "outputs": [],
   "source": [
    "# Define the forward structure\n",
    "model = Sequential()\n",
    "\n",
    "model.add(Conv2D(64, (3,3), activation = 'relu')) # 64 filters (feature detector) in this layer, each 3*3\n",
    "model.add(MaxPooling2D((2,2))) # the size of maxpooling is 2*2\n",
    "\n",
    "model.add(Conv2D(64, (3,3), activation = 'relu'))\n",
    "model.add(MaxPooling2D((2,2)))\n",
    "\n",
    "model.add(Flatten()) # Flattening the arrayes\n",
    "\n",
    "# Dense layer: 128 hidden neurons; X.shape[1:]=(200,200,3) \n",
    "model.add(Dense(128, input_shape = X.shape[1:], activation = 'relu')) \n",
    "\n",
    "# Final (dense) layer: 2 neurons for representing \"cat\" vs. \"dog\" classification\n",
    "model.add(Dense(2, activation = 'softmax'))"
   ]
  },
  {
   "cell_type": "code",
   "execution_count": 47,
   "metadata": {},
   "outputs": [],
   "source": [
    "# Define the Backpropogation components\n",
    "\n",
    "model.compile(optimizer='adam', loss='sparse_categorical_crossentropy', metrics=['accuracy'])"
   ]
  },
  {
   "cell_type": "code",
   "execution_count": 48,
   "metadata": {
    "scrolled": true
   },
   "outputs": [
    {
     "name": "stdout",
     "output_type": "stream",
     "text": [
      "Epoch 1/5\n",
      "647/647 [==============================] - 173s 268ms/step - loss: 0.6298 - accuracy: 0.6507 - val_loss: 0.5447 - val_accuracy: 0.7209\n",
      "Epoch 2/5\n",
      "647/647 [==============================] - 151s 233ms/step - loss: 0.4849 - accuracy: 0.7692 - val_loss: 0.4913 - val_accuracy: 0.7617\n",
      "Epoch 3/5\n",
      "647/647 [==============================] - 153s 237ms/step - loss: 0.4000 - accuracy: 0.8176 - val_loss: 0.4868 - val_accuracy: 0.7704\n",
      "Epoch 4/5\n",
      "647/647 [==============================] - 157s 243ms/step - loss: 0.2965 - accuracy: 0.8720 - val_loss: 0.5136 - val_accuracy: 0.7752\n",
      "Epoch 5/5\n",
      "647/647 [==============================] - 161s 248ms/step - loss: 0.1782 - accuracy: 0.9286 - val_loss: 0.7349 - val_accuracy: 0.7657\n"
     ]
    },
    {
     "data": {
      "text/plain": [
       "<tensorflow.python.keras.callbacks.History at 0x7fa3086b6220>"
      ]
     },
     "execution_count": 48,
     "metadata": {},
     "output_type": "execute_result"
    }
   ],
   "source": [
    "model.fit(X, y, epochs=5, validation_split=0.1)"
   ]
  },
  {
   "cell_type": "code",
   "execution_count": 68,
   "metadata": {},
   "outputs": [
    {
     "data": {
      "text/plain": [
       "(23000, 100, 100, 3)"
      ]
     },
     "execution_count": 68,
     "metadata": {},
     "output_type": "execute_result"
    }
   ],
   "source": [
    "#from keras.callbacks import TensorBoard\n",
    "#import time\n",
    "\n",
    "X.shape"
   ]
  },
  {
   "cell_type": "code",
   "execution_count": 94,
   "metadata": {},
   "outputs": [
    {
     "name": "stdout",
     "output_type": "stream",
     "text": [
      "cats\n"
     ]
    }
   ],
   "source": [
    "def image(path):\n",
    "    img = cv2.imread(path)\n",
    "    new_arr = cv2.resize(img, (100, 100))\n",
    "    new_arr = np.array(new_arr)\n",
    "    new_arr = new_arr.reshape(-1, 100, 100, 1)\n",
    "    return new_arr\n",
    "\n",
    "\n",
    "prediction = model.predict([image('./catdog-data/test1/3.jpg')])\n",
    "print(CATEGORIES[prediction.argmax()])"
   ]
  }
 ],
 "metadata": {
  "kernelspec": {
   "display_name": "Python 3",
   "language": "python",
   "name": "python3"
  },
  "language_info": {
   "codemirror_mode": {
    "name": "ipython",
    "version": 3
   },
   "file_extension": ".py",
   "mimetype": "text/x-python",
   "name": "python",
   "nbconvert_exporter": "python",
   "pygments_lexer": "ipython3",
   "version": "3.8.5"
  }
 },
 "nbformat": 4,
 "nbformat_minor": 2
}
