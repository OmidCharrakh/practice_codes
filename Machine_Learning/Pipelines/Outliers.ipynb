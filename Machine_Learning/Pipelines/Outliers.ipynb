{
 "cells": [
  {
   "cell_type": "markdown",
   "metadata": {},
   "source": [
    "Univariate\n",
    "- Boxplot\n",
    "- Tukey’s box plot method\n",
    "- Internally studentized residuals (AKA z-score method)\n",
    "- Median Absolute Deviation method\n",
    "\n",
    "Multivarite\n",
    "- ## Scatter Plot\n",
    "- ## Z score\n",
    "- ## IQR"
   ]
  },
  {
   "cell_type": "markdown",
   "metadata": {},
   "source": [
    "# Example 1"
   ]
  },
  {
   "cell_type": "code",
   "execution_count": 12,
   "metadata": {},
   "outputs": [],
   "source": [
    "#Import the libraries\n",
    "import numpy as np\n",
    "import pandas as pd\n",
    "from sklearn.datasets import load_boston,load_iris\n",
    "import matplotlib.pyplot as plt\n",
    "import seaborn as sns\n",
    "%matplotlib inline\n",
    "from scipy import stats\n",
    "import scipy as sp\n",
    "\n",
    "#Load the data\n",
    "boston = load_boston()\n",
    "columns = boston.feature_names\n",
    "\n",
    "#Find features and target\n",
    "x = boston.data\n",
    "y = boston.target\n",
    "\n",
    "#Create dataframe\n",
    "boston_df = pd.DataFrame(boston.data)\n",
    "boston_df.columns = columns"
   ]
  },
  {
   "cell_type": "code",
   "execution_count": 16,
   "metadata": {},
   "outputs": [
    {
     "data": {
      "text/plain": [
       "<AxesSubplot:xlabel='DIS'>"
      ]
     },
     "execution_count": 16,
     "metadata": {},
     "output_type": "execute_result"
    },
    {
     "data": {
      "image/png": "[encoded data removed]",
      "text/plain": [
       "<Figure size 432x288 with 1 Axes>"
      ]
     },
     "metadata": {
      "needs_background": "light"
     },
     "output_type": "display_data"
    }
   ],
   "source": [
    "# Univariate Oulier Detection: Boxplot\n",
    "\n",
    "sns.boxplot(x=boston_df['DIS'])"
   ]
  },
  {
   "cell_type": "code",
   "execution_count": 18,
   "metadata": {
    "scrolled": false
   },
   "outputs": [
    {
     "data": {
      "image/png": "[encoded data removed]",
      "text/plain": [
       "<Figure size 432x288 with 1 Axes>"
      ]
     },
     "metadata": {
      "needs_background": "light"
     },
     "output_type": "display_data"
    }
   ],
   "source": [
    "# scatter plot method\n",
    "plt.scatter(boston_df['INDUS'], boston_df['TAX'])\n",
    "plt.show()"
   ]
  },
  {
   "cell_type": "code",
   "execution_count": 84,
   "metadata": {},
   "outputs": [],
   "source": [
    "# Z-score method\n",
    "\n",
    "z = np.abs(stats.zscore(boston_df))\n",
    "mask_z=(z < 3).all(axis=1) #3= threshold\n",
    "\n",
    "df_zscore = boston_df[mask_out]"
   ]
  },
  {
   "cell_type": "code",
   "execution_count": 83,
   "metadata": {},
   "outputs": [],
   "source": [
    "# IQR method \n",
    "Q1 = boston_df.quantile(0.25)\n",
    "Q3 = boston_df.quantile(0.75)\n",
    "IQR = Q3 - Q1\n",
    "\n",
    "mask_IQR= ~((boston_df < (Q1 - 1.5 * IQR)) |(boston_df > (Q3 + 1.5 * IQR))).any(axis=1)\n",
    "df_IQR = boston_df[mask_IQR]"
   ]
  },
  {
   "cell_type": "code",
   "execution_count": 2,
   "metadata": {},
   "outputs": [
    {
     "ename": "NameError",
     "evalue": "name 'pd' is not defined",
     "output_type": "error",
     "traceback": [
      "\u001b[0;31m---------------------------------------------------------------------------\u001b[0m",
      "\u001b[0;31mNameError\u001b[0m                                 Traceback (most recent call last)",
      "\u001b[0;32m<ipython-input-2-f2b3fdd06f30>\u001b[0m in \u001b[0;36m<module>\u001b[0;34m\u001b[0m\n\u001b[1;32m      2\u001b[0m \u001b[0mx\u001b[0m \u001b[0;34m=\u001b[0m \u001b[0mload_boston\u001b[0m\u001b[0;34m(\u001b[0m\u001b[0;34m)\u001b[0m\u001b[0;34m.\u001b[0m\u001b[0mdata\u001b[0m\u001b[0;34m\u001b[0m\u001b[0;34m\u001b[0m\u001b[0m\n\u001b[1;32m      3\u001b[0m \u001b[0my\u001b[0m \u001b[0;34m=\u001b[0m \u001b[0mload_boston\u001b[0m\u001b[0;34m(\u001b[0m\u001b[0;34m)\u001b[0m\u001b[0;34m.\u001b[0m\u001b[0mtarget\u001b[0m\u001b[0;34m\u001b[0m\u001b[0;34m\u001b[0m\u001b[0m\n\u001b[0;32m----> 4\u001b[0;31m \u001b[0mboston_df\u001b[0m \u001b[0;34m=\u001b[0m \u001b[0mpd\u001b[0m\u001b[0;34m.\u001b[0m\u001b[0mDataFrame\u001b[0m\u001b[0;34m(\u001b[0m\u001b[0mx\u001b[0m\u001b[0;34m)\u001b[0m\u001b[0;34m\u001b[0m\u001b[0;34m\u001b[0m\u001b[0m\n\u001b[0m\u001b[1;32m      5\u001b[0m \u001b[0mboston_df\u001b[0m\u001b[0;34m.\u001b[0m\u001b[0mcolumns\u001b[0m \u001b[0;34m=\u001b[0m \u001b[0mload_boston\u001b[0m\u001b[0;34m(\u001b[0m\u001b[0;34m)\u001b[0m\u001b[0;34m.\u001b[0m\u001b[0mfeature_names\u001b[0m\u001b[0;34m\u001b[0m\u001b[0;34m\u001b[0m\u001b[0m\n\u001b[1;32m      6\u001b[0m \u001b[0;34m\u001b[0m\u001b[0m\n",
      "\u001b[0;31mNameError\u001b[0m: name 'pd' is not defined"
     ]
    }
   ],
   "source": [
    "\n",
    "\n",
    "from sklearn.datasets import load_boston\n",
    "x = load_boston().data\n",
    "y = load_boston().target\n",
    "boston_df = pd.DataFrame(x)\n",
    "boston_df.columns = load_boston().feature_names\n",
    "\n",
    "\n",
    "# Z-score method\n",
    "z = np.abs(stats.zscore(boston_df))\n",
    "mask_z=(z < 3).all(axis=1) #3= threshold\n",
    "df_zscore = boston_df[mask_out]\n",
    "\n",
    "\n",
    "# IQR method \n",
    "Q1 = boston_df.quantile(0.25)\n",
    "Q3 = boston_df.quantile(0.75)\n",
    "IQR = Q3 - Q1\n",
    "mask_IQR= ~((boston_df < (Q1 - 1.5 * IQR)) |(boston_df > (Q3 + 1.5 * IQR))).any(axis=1)\n",
    "df_IQR = boston_df[mask_IQR]"
   ]
  },
  {
   "cell_type": "markdown",
   "metadata": {},
   "source": [
    "# Example 2"
   ]
  },
  {
   "cell_type": "code",
   "execution_count": 1,
   "metadata": {},
   "outputs": [],
   "source": [
    "#Load libraries\n",
    "from sklearn.datasets import load_boston\n",
    "import numpy as np\n",
    "import pandas as pd\n",
    "import seaborn as sns\n",
    "from scipy import stats\n",
    "\n",
    "#Load data\n",
    "X, y = load_boston(return_X_y=True)\n",
    "\n",
    "#Create data frame\n",
    "boston = load_boston()\n",
    "columns = boston.feature_names\n",
    "df = pd.DataFrame(X, columns = columns)"
   ]
  },
  {
   "cell_type": "code",
   "execution_count": 2,
   "metadata": {},
   "outputs": [
    {
     "data": {
      "image/png": "[encoded data removed]",
      "text/plain": [
       "<Figure size 432x288 with 1 Axes>"
      ]
     },
     "metadata": {
      "needs_background": "light"
     },
     "output_type": "display_data"
    }
   ],
   "source": [
    "#df.describe()\n",
    "\n",
    "df_1 = df[['TAX', 'B']]\n",
    "df_2 = df[['CRIM', 'ZN', 'INDUS', 'RM', 'AGE', 'DIS', 'RAD', 'PTRATIO','LSTAT']]\n",
    "df_3 = df[['CHAS', 'NOX']]\n",
    "\n",
    "ax = sns.boxplot(data=df_2, orient=\"h\", palette=\"Set2\")"
   ]
  },
  {
   "cell_type": "code",
   "execution_count": 3,
   "metadata": {},
   "outputs": [],
   "source": [
    "#Tukey's method\n",
    "def tukeys_method(df, variable):\n",
    "    #Takes two parameters: dataframe & variable of interest as string\n",
    "    q1 = df[variable].quantile(0.25)\n",
    "    q3 = df[variable].quantile(0.75)\n",
    "    iqr = q3-q1\n",
    "    inner_fence = 1.5*iqr\n",
    "    outer_fence = 3*iqr\n",
    "    \n",
    "    #inner fence lower and upper end\n",
    "    inner_fence_le = q1-inner_fence\n",
    "    inner_fence_ue = q3+inner_fence\n",
    "    \n",
    "    #outer fence lower and upper end\n",
    "    outer_fence_le = q1-outer_fence\n",
    "    outer_fence_ue = q3+outer_fence\n",
    "    \n",
    "    outliers_prob = []\n",
    "    outliers_poss = []\n",
    "    for index, x in enumerate(df[variable]):\n",
    "        if x <= outer_fence_le or x >= outer_fence_ue:\n",
    "            outliers_prob.append(index)\n",
    "    for index, x in enumerate(df[variable]):\n",
    "        if x <= inner_fence_le or x >= inner_fence_ue:\n",
    "            outliers_poss.append(index)\n",
    "    return outliers_prob, outliers_poss\n"
   ]
  },
  {
   "cell_type": "code",
   "execution_count": 5,
   "metadata": {},
   "outputs": [
    {
     "name": "stdout",
     "output_type": "stream",
     "text": [
      "[374, 375, 376, 378, 379, 380, 381, 384, 385, 386, 387, 398, 400, 403, 404, 405, 406, 410, 412, 413, 414, 415, 417, 418, 425, 427, 437, 440, 468, 477]\n",
      "[367, 371, 373, 374, 375, 376, 377, 378, 379, 380, 381, 382, 384, 385, 386, 387, 388, 392, 394, 398, 399, 400, 401, 402, 403, 404, 405, 406, 407, 409, 410, 411, 412, 413, 414, 415, 416, 417, 418, 419, 420, 422, 425, 426, 427, 429, 431, 434, 435, 436, 437, 438, 439, 440, 441, 443, 444, 445, 447, 448, 454, 468, 469, 477, 478, 479]\n"
     ]
    }
   ],
   "source": [
    "probable_outliers_tm, possible_outliers_tm = tukeys_method(df, \"CRIM\")\n",
    "print(probable_outliers_tm)\n",
    "print(possible_outliers_tm)"
   ]
  },
  {
   "cell_type": "code",
   "execution_count": 6,
   "metadata": {},
   "outputs": [
    {
     "name": "stdout",
     "output_type": "stream",
     "text": [
      "[]\n",
      "[380, 404, 405, 410, 414, 418]\n"
     ]
    },
    {
     "name": "stderr",
     "output_type": "stream",
     "text": [
      "/Users/omid/opt/anaconda3/lib/python3.8/site-packages/seaborn/distributions.py:2551: FutureWarning: `distplot` is a deprecated function and will be removed in a future version. Please adapt your code to use either `displot` (a figure-level function with similar flexibility) or `histplot` (an axes-level function for histograms).\n",
      "  warnings.warn(msg, FutureWarning)\n"
     ]
    },
    {
     "data": {
      "image/png": "[encoded data removed]",
      "text/plain": [
       "<Figure size 432x288 with 1 Axes>"
      ]
     },
     "metadata": {
      "needs_background": "light"
     },
     "output_type": "display_data"
    }
   ],
   "source": [
    "#Transform 'CRIM' to log \n",
    "log_CRIM = np.log(df['CRIM'])\n",
    "df['CRIM_man'] = df['CRIM']+1\n",
    "log_CRIM = np.log(df['CRIM_man'])\n",
    "df['CRIM_log'] = log_CRIM\n",
    "\n",
    "#Plot\n",
    "sns.distplot(df['CRIM_log'])\n",
    "\n",
    "#Calculate probable and possible outliers using log-iq method\n",
    "probable_outliers_logiq, possible_outliers_logiq = tukeys_method(df, 'CRIM_log')\n",
    "print(probable_outliers_logiq)\n",
    "print(possible_outliers_logiq)"
   ]
  },
  {
   "cell_type": "code",
   "execution_count": 7,
   "metadata": {},
   "outputs": [
    {
     "name": "stdout",
     "output_type": "stream",
     "text": [
      "[380, 398, 404, 405, 410, 414, 418, 427]\n"
     ]
    }
   ],
   "source": [
    "#Internally studentized method (z-score)\n",
    "def z_score_method(df, variable_name):\n",
    "    #Takes two parameters: dataframe & variable of interest as string\n",
    "    columns = df.columns\n",
    "    z = np.abs(stats.zscore(df))\n",
    "    threshold = 3\n",
    "    outlier = []\n",
    "    index=0\n",
    "    for item in range(len(columns)):\n",
    "        if columns[item] == variable_name:\n",
    "            index = item\n",
    "    for i, v in enumerate(z[:, index]):\n",
    "        if v > threshold:\n",
    "            outlier.append(i)\n",
    "        else:\n",
    "            continue\n",
    "    return outlier\n",
    "\n",
    "outlier_z = z_score_method(df, 'CRIM')\n",
    "print(outlier_z)"
   ]
  },
  {
   "cell_type": "code",
   "execution_count": 8,
   "metadata": {},
   "outputs": [
    {
     "name": "stdout",
     "output_type": "stream",
     "text": [
      "[20, 31, 32, 34, 141, 142, 143, 144, 145, 146, 147, 148, 149, 150, 151, 153, 154, 155, 156, 158, 159, 160, 161, 162, 163, 164, 165, 166, 167, 168, 169, 171, 310, 356, 357, 358, 359, 360, 361, 362, 363, 364, 365, 366, 367, 368, 369, 370, 371, 372, 373, 374, 375, 376, 377, 378, 379, 380, 381, 382, 383, 384, 385, 386, 387, 388, 389, 390, 391, 392, 393, 394, 395, 396, 397, 398, 399, 400, 401, 402, 403, 404, 405, 406, 407, 408, 409, 410, 411, 412, 413, 414, 415, 416, 417, 418, 419, 420, 421, 422, 423, 424, 425, 426, 427, 428, 429, 430, 431, 432, 433, 434, 435, 436, 437, 438, 439, 440, 441, 442, 443, 444, 445, 446, 447, 448, 449, 450, 451, 452, 453, 454, 455, 456, 457, 458, 459, 460, 461, 462, 463, 464, 465, 466, 467, 468, 469, 470, 471, 472, 473, 474, 475, 476, 477, 478, 479, 480, 481, 482, 483, 484, 485, 486, 487]\n"
     ]
    },
    {
     "name": "stderr",
     "output_type": "stream",
     "text": [
      "<ipython-input-8-fcfba7a99f2e>:6: DeprecationWarning: `median_absolute_deviation` is deprecated, use `median_abs_deviation` instead!\n",
      "\n",
      "To preserve the existing default behavior, use\n",
      "`scipy.stats.median_abs_deviation(..., scale=1/1.4826)`.\n",
      "The value 1.4826 is not numerically precise for scaling\n",
      "with a normal distribution. For a numerically precise value, use\n",
      "`scipy.stats.median_abs_deviation(..., scale='normal')`.\n",
      "\n",
      "  mad = np.abs(stats.median_absolute_deviation(df))\n"
     ]
    }
   ],
   "source": [
    "#MAD method\n",
    "def mad_method(df, variable_name):\n",
    "    #Takes two parameters: dataframe & variable of interest as string\n",
    "    columns = df.columns\n",
    "    med = np.median(df, axis = 0)\n",
    "    mad = np.abs(stats.median_absolute_deviation(df))\n",
    "    threshold = 3\n",
    "    outlier = []\n",
    "    index=0\n",
    "    for item in range(len(columns)):\n",
    "        if columns[item] == variable_name:\n",
    "            index == item\n",
    "    for i, v in enumerate(df.loc[:,variable_name]):\n",
    "        t = (v-med[index])/mad[index]\n",
    "        if t > threshold:\n",
    "            outlier.append(i)\n",
    "        else:\n",
    "            continue\n",
    "    return outlier\n",
    "\n",
    "outlier_mad = mad_method(df, 'CRIM')\n",
    "print(outlier_mad)"
   ]
  },
  {
   "cell_type": "code",
   "execution_count": 9,
   "metadata": {},
   "outputs": [
    {
     "data": {
      "image/png": "[encoded data removed]",
      "text/plain": [
       "<Figure size 432x288 with 1 Axes>"
      ]
     },
     "metadata": {
      "needs_background": "light"
     },
     "output_type": "display_data"
    }
   ],
   "source": [
    "#Scatterpblot\n",
    "ax = sns.scatterplot(x=\"LSTAT\", y=\"CRIM\", data=df)"
   ]
  },
  {
   "cell_type": "code",
   "execution_count": 16,
   "metadata": {},
   "outputs": [
    {
     "name": "stderr",
     "output_type": "stream",
     "text": [
      "<ipython-input-16-b39bf8e4e11a>:11: RuntimeWarning: invalid value encountered in sqrt\n",
      "  md = np.sqrt(mahal.diagonal())\n"
     ]
    }
   ],
   "source": [
    "#Mahalonibis Distance\n",
    "from scipy.stats import chi2\n",
    "\n",
    "def mahalanobis_method(df):\n",
    "    #M-Distance\n",
    "    x_minus_mu = df - np.mean(df)\n",
    "    cov = np.cov(df.values.T)                           #Covariance\n",
    "    inv_covmat = sp.linalg.inv(cov)                     #Inverse covariance\n",
    "    left_term = np.dot(x_minus_mu, inv_covmat) \n",
    "    mahal = np.dot(left_term, x_minus_mu.T)\n",
    "    md = np.sqrt(mahal.diagonal())\n",
    "    \n",
    "    #Flag as outlier\n",
    "    outlier = []\n",
    "    #Cut-off point\n",
    "    C = np.sqrt(chi2.ppf((1-0.001), df=df.shape[1]))    #degrees of freedom = number of variables\n",
    "    for index, value in enumerate(md):\n",
    "        if value > C:\n",
    "            outlier.append(index)\n",
    "        else:\n",
    "            continue\n",
    "    return outlier, md\n",
    "\n",
    "outliers_mahal, md = mahalanobis_method(df=df)\n"
   ]
  },
  {
   "cell_type": "code",
   "execution_count": 18,
   "metadata": {},
   "outputs": [
    {
     "name": "stderr",
     "output_type": "stream",
     "text": [
      "/Users/omid/opt/anaconda3/lib/python3.8/site-packages/sklearn/covariance/_robust_covariance.py:166: RuntimeWarning: Determinant has increased; this should not happen: log(det) > log(previous_det) (-3.424891234952741 > -4.555658889622428). You may want to try with a higher value of support_fraction (current value: 0.516).\n",
      "  warnings.warn(\"Determinant has increased; this should not happen: \"\n",
      "/Users/omid/opt/anaconda3/lib/python3.8/site-packages/sklearn/covariance/_robust_covariance.py:166: RuntimeWarning: Determinant has increased; this should not happen: log(det) > log(previous_det) (-3.271611540135906 > -4.070798819943153). You may want to try with a higher value of support_fraction (current value: 0.516).\n",
      "  warnings.warn(\"Determinant has increased; this should not happen: \"\n",
      "/Users/omid/opt/anaconda3/lib/python3.8/site-packages/sklearn/covariance/_robust_covariance.py:166: RuntimeWarning: Determinant has increased; this should not happen: log(det) > log(previous_det) (-3.120244652787857 > -3.418522829939771). You may want to try with a higher value of support_fraction (current value: 0.516).\n",
      "  warnings.warn(\"Determinant has increased; this should not happen: \"\n",
      "/Users/omid/opt/anaconda3/lib/python3.8/site-packages/sklearn/covariance/_robust_covariance.py:166: RuntimeWarning: Determinant has increased; this should not happen: log(det) > log(previous_det) (-3.429988420229368 > -4.142185123550600). You may want to try with a higher value of support_fraction (current value: 0.516).\n",
      "  warnings.warn(\"Determinant has increased; this should not happen: \"\n",
      "/Users/omid/opt/anaconda3/lib/python3.8/site-packages/sklearn/covariance/_robust_covariance.py:166: RuntimeWarning: Determinant has increased; this should not happen: log(det) > log(previous_det) (-3.342107557451374 > -3.597605593733990). You may want to try with a higher value of support_fraction (current value: 0.516).\n",
      "  warnings.warn(\"Determinant has increased; this should not happen: \"\n",
      "/Users/omid/opt/anaconda3/lib/python3.8/site-packages/sklearn/covariance/_robust_covariance.py:166: RuntimeWarning: Determinant has increased; this should not happen: log(det) > log(previous_det) (-3.547437256465853 > -3.802146006954992). You may want to try with a higher value of support_fraction (current value: 0.516).\n",
      "  warnings.warn(\"Determinant has increased; this should not happen: \"\n",
      "/Users/omid/opt/anaconda3/lib/python3.8/site-packages/sklearn/covariance/_robust_covariance.py:166: RuntimeWarning: Determinant has increased; this should not happen: log(det) > log(previous_det) (-2.936249707046663 > -3.794337629235658). You may want to try with a higher value of support_fraction (current value: 0.516).\n",
      "  warnings.warn(\"Determinant has increased; this should not happen: \"\n",
      "/Users/omid/opt/anaconda3/lib/python3.8/site-packages/sklearn/covariance/_robust_covariance.py:166: RuntimeWarning: Determinant has increased; this should not happen: log(det) > log(previous_det) (-4.037849314601479 > -6.090015716112617). You may want to try with a higher value of support_fraction (current value: 0.516).\n",
      "  warnings.warn(\"Determinant has increased; this should not happen: \"\n",
      "/Users/omid/opt/anaconda3/lib/python3.8/site-packages/sklearn/covariance/_robust_covariance.py:166: RuntimeWarning: Determinant has increased; this should not happen: log(det) > log(previous_det) (-3.084847959104859 > -4.221453291329484). You may want to try with a higher value of support_fraction (current value: 0.516).\n",
      "  warnings.warn(\"Determinant has increased; this should not happen: \"\n",
      "/Users/omid/opt/anaconda3/lib/python3.8/site-packages/sklearn/covariance/_robust_covariance.py:166: RuntimeWarning: Determinant has increased; this should not happen: log(det) > log(previous_det) (-2.967119165411596 > -3.694123399200343). You may want to try with a higher value of support_fraction (current value: 0.516).\n",
      "  warnings.warn(\"Determinant has increased; this should not happen: \"\n",
      "/Users/omid/opt/anaconda3/lib/python3.8/site-packages/sklearn/covariance/_robust_covariance.py:166: RuntimeWarning: Determinant has increased; this should not happen: log(det) > log(previous_det) (-3.686524374557168 > -3.882667820427033). You may want to try with a higher value of support_fraction (current value: 0.516).\n",
      "  warnings.warn(\"Determinant has increased; this should not happen: \"\n",
      "/Users/omid/opt/anaconda3/lib/python3.8/site-packages/sklearn/covariance/_robust_covariance.py:166: RuntimeWarning: Determinant has increased; this should not happen: log(det) > log(previous_det) (-2.944017714687151 > -3.002517447439784). You may want to try with a higher value of support_fraction (current value: 0.516).\n",
      "  warnings.warn(\"Determinant has increased; this should not happen: \"\n",
      "/Users/omid/opt/anaconda3/lib/python3.8/site-packages/sklearn/covariance/_robust_covariance.py:166: RuntimeWarning: Determinant has increased; this should not happen: log(det) > log(previous_det) (-3.942227410819438 > -4.391218873837481). You may want to try with a higher value of support_fraction (current value: 0.516).\n",
      "  warnings.warn(\"Determinant has increased; this should not happen: \"\n",
      "/Users/omid/opt/anaconda3/lib/python3.8/site-packages/sklearn/covariance/_robust_covariance.py:166: RuntimeWarning: Determinant has increased; this should not happen: log(det) > log(previous_det) (-3.099839001528393 > -3.712240594597196). You may want to try with a higher value of support_fraction (current value: 0.516).\n",
      "  warnings.warn(\"Determinant has increased; this should not happen: \"\n",
      "/Users/omid/opt/anaconda3/lib/python3.8/site-packages/sklearn/covariance/_robust_covariance.py:166: RuntimeWarning: Determinant has increased; this should not happen: log(det) > log(previous_det) (-3.408634905085007 > -5.382391223308176). You may want to try with a higher value of support_fraction (current value: 0.516).\n",
      "  warnings.warn(\"Determinant has increased; this should not happen: \"\n",
      "/Users/omid/opt/anaconda3/lib/python3.8/site-packages/sklearn/covariance/_robust_covariance.py:166: RuntimeWarning: Determinant has increased; this should not happen: log(det) > log(previous_det) (-3.601102484785425 > -4.771842973086457). You may want to try with a higher value of support_fraction (current value: 0.516).\n",
      "  warnings.warn(\"Determinant has increased; this should not happen: \"\n",
      "/Users/omid/opt/anaconda3/lib/python3.8/site-packages/sklearn/covariance/_robust_covariance.py:166: RuntimeWarning: Determinant has increased; this should not happen: log(det) > log(previous_det) (-2.899221750184660 > -3.956033866454126). You may want to try with a higher value of support_fraction (current value: 0.516).\n",
      "  warnings.warn(\"Determinant has increased; this should not happen: \"\n",
      "/Users/omid/opt/anaconda3/lib/python3.8/site-packages/sklearn/covariance/_robust_covariance.py:166: RuntimeWarning: Determinant has increased; this should not happen: log(det) > log(previous_det) (-3.831378132012297 > -3.921827867631871). You may want to try with a higher value of support_fraction (current value: 0.516).\n",
      "  warnings.warn(\"Determinant has increased; this should not happen: \"\n",
      "/Users/omid/opt/anaconda3/lib/python3.8/site-packages/sklearn/covariance/_robust_covariance.py:166: RuntimeWarning: Determinant has increased; this should not happen: log(det) > log(previous_det) (-3.076440380133256 > -3.515345407006492). You may want to try with a higher value of support_fraction (current value: 0.516).\n",
      "  warnings.warn(\"Determinant has increased; this should not happen: \"\n",
      "/Users/omid/opt/anaconda3/lib/python3.8/site-packages/sklearn/covariance/_robust_covariance.py:166: RuntimeWarning: Determinant has increased; this should not happen: log(det) > log(previous_det) (-3.567786246851648 > -5.095568531196150). You may want to try with a higher value of support_fraction (current value: 0.516).\n",
      "  warnings.warn(\"Determinant has increased; this should not happen: \"\n",
      "/Users/omid/opt/anaconda3/lib/python3.8/site-packages/sklearn/covariance/_robust_covariance.py:166: RuntimeWarning: Determinant has increased; this should not happen: log(det) > log(previous_det) (-3.015777350280588 > -3.106402055778370). You may want to try with a higher value of support_fraction (current value: 0.516).\n",
      "  warnings.warn(\"Determinant has increased; this should not happen: \"\n",
      "/Users/omid/opt/anaconda3/lib/python3.8/site-packages/sklearn/covariance/_robust_covariance.py:166: RuntimeWarning: Determinant has increased; this should not happen: log(det) > log(previous_det) (-3.712250334793492 > -4.582043458606620). You may want to try with a higher value of support_fraction (current value: 0.516).\n",
      "  warnings.warn(\"Determinant has increased; this should not happen: \"\n",
      "/Users/omid/opt/anaconda3/lib/python3.8/site-packages/sklearn/covariance/_robust_covariance.py:166: RuntimeWarning: Determinant has increased; this should not happen: log(det) > log(previous_det) (-3.610763386747113 > -4.099325718432137). You may want to try with a higher value of support_fraction (current value: 0.516).\n",
      "  warnings.warn(\"Determinant has increased; this should not happen: \"\n",
      "/Users/omid/opt/anaconda3/lib/python3.8/site-packages/sklearn/covariance/_robust_covariance.py:166: RuntimeWarning: Determinant has increased; this should not happen: log(det) > log(previous_det) (-3.564659924612325 > -3.759744195884821). You may want to try with a higher value of support_fraction (current value: 0.516).\n",
      "  warnings.warn(\"Determinant has increased; this should not happen: \"\n",
      "/Users/omid/opt/anaconda3/lib/python3.8/site-packages/sklearn/covariance/_robust_covariance.py:166: RuntimeWarning: Determinant has increased; this should not happen: log(det) > log(previous_det) (-3.187098742269340 > -3.838329610332146). You may want to try with a higher value of support_fraction (current value: 0.516).\n",
      "  warnings.warn(\"Determinant has increased; this should not happen: \"\n",
      "/Users/omid/opt/anaconda3/lib/python3.8/site-packages/sklearn/covariance/_robust_covariance.py:166: RuntimeWarning: Determinant has increased; this should not happen: log(det) > log(previous_det) (-3.009506448072425 > -3.124172232613194). You may want to try with a higher value of support_fraction (current value: 0.516).\n",
      "  warnings.warn(\"Determinant has increased; this should not happen: \"\n",
      "/Users/omid/opt/anaconda3/lib/python3.8/site-packages/sklearn/covariance/_robust_covariance.py:166: RuntimeWarning: Determinant has increased; this should not happen: log(det) > log(previous_det) (-3.162324445707396 > -3.560237756037377). You may want to try with a higher value of support_fraction (current value: 0.516).\n",
      "  warnings.warn(\"Determinant has increased; this should not happen: \"\n",
      "/Users/omid/opt/anaconda3/lib/python3.8/site-packages/sklearn/covariance/_robust_covariance.py:166: RuntimeWarning: Determinant has increased; this should not happen: log(det) > log(previous_det) (-3.432134147740728 > -4.035294493523741). You may want to try with a higher value of support_fraction (current value: 0.516).\n",
      "  warnings.warn(\"Determinant has increased; this should not happen: \"\n",
      "/Users/omid/opt/anaconda3/lib/python3.8/site-packages/sklearn/covariance/_robust_covariance.py:166: RuntimeWarning: Determinant has increased; this should not happen: log(det) > log(previous_det) (-3.014543710057389 > -3.029367126840876). You may want to try with a higher value of support_fraction (current value: 0.516).\n",
      "  warnings.warn(\"Determinant has increased; this should not happen: \"\n",
      "/Users/omid/opt/anaconda3/lib/python3.8/site-packages/sklearn/covariance/_robust_covariance.py:166: RuntimeWarning: Determinant has increased; this should not happen: log(det) > log(previous_det) (-3.012918387350764 > -3.505375939561752). You may want to try with a higher value of support_fraction (current value: 0.516).\n",
      "  warnings.warn(\"Determinant has increased; this should not happen: \"\n",
      "/Users/omid/opt/anaconda3/lib/python3.8/site-packages/sklearn/covariance/_robust_covariance.py:166: RuntimeWarning: Determinant has increased; this should not happen: log(det) > log(previous_det) (-3.568185351789136 > -4.079749874656878). You may want to try with a higher value of support_fraction (current value: 0.516).\n",
      "  warnings.warn(\"Determinant has increased; this should not happen: \"\n",
      "/Users/omid/opt/anaconda3/lib/python3.8/site-packages/sklearn/covariance/_robust_covariance.py:166: RuntimeWarning: Determinant has increased; this should not happen: log(det) > log(previous_det) (-3.307613580775746 > -3.714486528801126). You may want to try with a higher value of support_fraction (current value: 0.516).\n",
      "  warnings.warn(\"Determinant has increased; this should not happen: \"\n",
      "/Users/omid/opt/anaconda3/lib/python3.8/site-packages/sklearn/covariance/_robust_covariance.py:166: RuntimeWarning: Determinant has increased; this should not happen: log(det) > log(previous_det) (-3.416155585882541 > -3.482026488081006). You may want to try with a higher value of support_fraction (current value: 0.516).\n",
      "  warnings.warn(\"Determinant has increased; this should not happen: \"\n",
      "/Users/omid/opt/anaconda3/lib/python3.8/site-packages/sklearn/covariance/_robust_covariance.py:166: RuntimeWarning: Determinant has increased; this should not happen: log(det) > log(previous_det) (-3.761923215004176 > -4.071425786120939). You may want to try with a higher value of support_fraction (current value: 0.516).\n",
      "  warnings.warn(\"Determinant has increased; this should not happen: \"\n",
      "/Users/omid/opt/anaconda3/lib/python3.8/site-packages/sklearn/covariance/_robust_covariance.py:166: RuntimeWarning: Determinant has increased; this should not happen: log(det) > log(previous_det) (-3.117331124258932 > -4.043015521197812). You may want to try with a higher value of support_fraction (current value: 0.516).\n",
      "  warnings.warn(\"Determinant has increased; this should not happen: \"\n",
      "/Users/omid/opt/anaconda3/lib/python3.8/site-packages/sklearn/covariance/_robust_covariance.py:166: RuntimeWarning: Determinant has increased; this should not happen: log(det) > log(previous_det) (-3.416992937390745 > -3.615628137207748). You may want to try with a higher value of support_fraction (current value: 0.516).\n",
      "  warnings.warn(\"Determinant has increased; this should not happen: \"\n",
      "/Users/omid/opt/anaconda3/lib/python3.8/site-packages/sklearn/covariance/_robust_covariance.py:166: RuntimeWarning: Determinant has increased; this should not happen: log(det) > log(previous_det) (-3.523839340746866 > -4.201618187853645). You may want to try with a higher value of support_fraction (current value: 0.516).\n",
      "  warnings.warn(\"Determinant has increased; this should not happen: \"\n",
      "/Users/omid/opt/anaconda3/lib/python3.8/site-packages/sklearn/covariance/_robust_covariance.py:166: RuntimeWarning: Determinant has increased; this should not happen: log(det) > log(previous_det) (-3.122940563508266 > -3.681354556637382). You may want to try with a higher value of support_fraction (current value: 0.516).\n",
      "  warnings.warn(\"Determinant has increased; this should not happen: \"\n",
      "/Users/omid/opt/anaconda3/lib/python3.8/site-packages/sklearn/covariance/_robust_covariance.py:166: RuntimeWarning: Determinant has increased; this should not happen: log(det) > log(previous_det) (-3.270705461402029 > -3.593269773426618). You may want to try with a higher value of support_fraction (current value: 0.516).\n",
      "  warnings.warn(\"Determinant has increased; this should not happen: \"\n",
      "/Users/omid/opt/anaconda3/lib/python3.8/site-packages/sklearn/covariance/_robust_covariance.py:166: RuntimeWarning: Determinant has increased; this should not happen: log(det) > log(previous_det) (-3.473806254653729 > -3.527492924546715). You may want to try with a higher value of support_fraction (current value: 0.516).\n",
      "  warnings.warn(\"Determinant has increased; this should not happen: \"\n",
      "/Users/omid/opt/anaconda3/lib/python3.8/site-packages/sklearn/covariance/_robust_covariance.py:166: RuntimeWarning: Determinant has increased; this should not happen: log(det) > log(previous_det) (-3.448279995286578 > -3.585434417481082). You may want to try with a higher value of support_fraction (current value: 0.516).\n",
      "  warnings.warn(\"Determinant has increased; this should not happen: \"\n",
      "/Users/omid/opt/anaconda3/lib/python3.8/site-packages/sklearn/covariance/_robust_covariance.py:166: RuntimeWarning: Determinant has increased; this should not happen: log(det) > log(previous_det) (-3.576771410206412 > -4.087454941344303). You may want to try with a higher value of support_fraction (current value: 0.516).\n",
      "  warnings.warn(\"Determinant has increased; this should not happen: \"\n",
      "/Users/omid/opt/anaconda3/lib/python3.8/site-packages/sklearn/covariance/_robust_covariance.py:166: RuntimeWarning: Determinant has increased; this should not happen: log(det) > log(previous_det) (-3.408619024135559 > -3.481452251701834). You may want to try with a higher value of support_fraction (current value: 0.516).\n",
      "  warnings.warn(\"Determinant has increased; this should not happen: \"\n",
      "/Users/omid/opt/anaconda3/lib/python3.8/site-packages/sklearn/covariance/_robust_covariance.py:166: RuntimeWarning: Determinant has increased; this should not happen: log(det) > log(previous_det) (-2.985296087671205 > -3.617495415669516). You may want to try with a higher value of support_fraction (current value: 0.516).\n",
      "  warnings.warn(\"Determinant has increased; this should not happen: \"\n",
      "/Users/omid/opt/anaconda3/lib/python3.8/site-packages/sklearn/covariance/_robust_covariance.py:166: RuntimeWarning: Determinant has increased; this should not happen: log(det) > log(previous_det) (-3.415286236060663 > -3.604751049760594). You may want to try with a higher value of support_fraction (current value: 0.516).\n",
      "  warnings.warn(\"Determinant has increased; this should not happen: \"\n",
      "/Users/omid/opt/anaconda3/lib/python3.8/site-packages/sklearn/covariance/_robust_covariance.py:166: RuntimeWarning: Determinant has increased; this should not happen: log(det) > log(previous_det) (-3.305432078997571 > -3.573540593915197). You may want to try with a higher value of support_fraction (current value: 0.516).\n",
      "  warnings.warn(\"Determinant has increased; this should not happen: \"\n",
      "/Users/omid/opt/anaconda3/lib/python3.8/site-packages/sklearn/covariance/_robust_covariance.py:166: RuntimeWarning: Determinant has increased; this should not happen: log(det) > log(previous_det) (-3.865517994454454 > -3.911209069690324). You may want to try with a higher value of support_fraction (current value: 0.516).\n",
      "  warnings.warn(\"Determinant has increased; this should not happen: \"\n",
      "/Users/omid/opt/anaconda3/lib/python3.8/site-packages/sklearn/covariance/_robust_covariance.py:166: RuntimeWarning: Determinant has increased; this should not happen: log(det) > log(previous_det) (-3.177762873573190 > -4.294566162725673). You may want to try with a higher value of support_fraction (current value: 0.516).\n",
      "  warnings.warn(\"Determinant has increased; this should not happen: \"\n",
      "/Users/omid/opt/anaconda3/lib/python3.8/site-packages/sklearn/covariance/_robust_covariance.py:166: RuntimeWarning: Determinant has increased; this should not happen: log(det) > log(previous_det) (-3.190819930215595 > -3.680889410591618). You may want to try with a higher value of support_fraction (current value: 0.516).\n",
      "  warnings.warn(\"Determinant has increased; this should not happen: \"\n",
      "/Users/omid/opt/anaconda3/lib/python3.8/site-packages/sklearn/covariance/_robust_covariance.py:166: RuntimeWarning: Determinant has increased; this should not happen: log(det) > log(previous_det) (-3.869190286388813 > -4.393438443672489). You may want to try with a higher value of support_fraction (current value: 0.516).\n",
      "  warnings.warn(\"Determinant has increased; this should not happen: \"\n",
      "/Users/omid/opt/anaconda3/lib/python3.8/site-packages/sklearn/covariance/_robust_covariance.py:166: RuntimeWarning: Determinant has increased; this should not happen: log(det) > log(previous_det) (-3.369522959975484 > -3.418908452536531). You may want to try with a higher value of support_fraction (current value: 0.516).\n",
      "  warnings.warn(\"Determinant has increased; this should not happen: \"\n",
      "/Users/omid/opt/anaconda3/lib/python3.8/site-packages/sklearn/covariance/_robust_covariance.py:166: RuntimeWarning: Determinant has increased; this should not happen: log(det) > log(previous_det) (-3.298051080547431 > -4.342929120602498). You may want to try with a higher value of support_fraction (current value: 0.516).\n",
      "  warnings.warn(\"Determinant has increased; this should not happen: \"\n",
      "/Users/omid/opt/anaconda3/lib/python3.8/site-packages/sklearn/covariance/_robust_covariance.py:166: RuntimeWarning: Determinant has increased; this should not happen: log(det) > log(previous_det) (-3.386370170288940 > -3.639435851528253). You may want to try with a higher value of support_fraction (current value: 0.516).\n",
      "  warnings.warn(\"Determinant has increased; this should not happen: \"\n",
      "/Users/omid/opt/anaconda3/lib/python3.8/site-packages/sklearn/covariance/_robust_covariance.py:166: RuntimeWarning: Determinant has increased; this should not happen: log(det) > log(previous_det) (-3.133596971325419 > -3.338334984262712). You may want to try with a higher value of support_fraction (current value: 0.516).\n",
      "  warnings.warn(\"Determinant has increased; this should not happen: \"\n",
      "/Users/omid/opt/anaconda3/lib/python3.8/site-packages/sklearn/covariance/_robust_covariance.py:166: RuntimeWarning: Determinant has increased; this should not happen: log(det) > log(previous_det) (-2.762595581466355 > -3.171506271617497). You may want to try with a higher value of support_fraction (current value: 0.516).\n",
      "  warnings.warn(\"Determinant has increased; this should not happen: \"\n",
      "/Users/omid/opt/anaconda3/lib/python3.8/site-packages/sklearn/covariance/_robust_covariance.py:166: RuntimeWarning: Determinant has increased; this should not happen: log(det) > log(previous_det) (-3.251873889925454 > -3.870526119181234). You may want to try with a higher value of support_fraction (current value: 0.516).\n",
      "  warnings.warn(\"Determinant has increased; this should not happen: \"\n",
      "/Users/omid/opt/anaconda3/lib/python3.8/site-packages/sklearn/covariance/_robust_covariance.py:166: RuntimeWarning: Determinant has increased; this should not happen: log(det) > log(previous_det) (-2.995700321645316 > -3.135700220342803). You may want to try with a higher value of support_fraction (current value: 0.516).\n",
      "  warnings.warn(\"Determinant has increased; this should not happen: \"\n",
      "/Users/omid/opt/anaconda3/lib/python3.8/site-packages/sklearn/covariance/_robust_covariance.py:166: RuntimeWarning: Determinant has increased; this should not happen: log(det) > log(previous_det) (-3.492721585864601 > -3.519556374076647). You may want to try with a higher value of support_fraction (current value: 0.516).\n",
      "  warnings.warn(\"Determinant has increased; this should not happen: \"\n",
      "/Users/omid/opt/anaconda3/lib/python3.8/site-packages/sklearn/covariance/_robust_covariance.py:166: RuntimeWarning: Determinant has increased; this should not happen: log(det) > log(previous_det) (-3.094379289294791 > -4.555194443490123). You may want to try with a higher value of support_fraction (current value: 0.516).\n",
      "  warnings.warn(\"Determinant has increased; this should not happen: \"\n",
      "/Users/omid/opt/anaconda3/lib/python3.8/site-packages/sklearn/covariance/_robust_covariance.py:166: RuntimeWarning: Determinant has increased; this should not happen: log(det) > log(previous_det) (-2.996055104239078 > -3.170107747109940). You may want to try with a higher value of support_fraction (current value: 0.516).\n",
      "  warnings.warn(\"Determinant has increased; this should not happen: \"\n",
      "/Users/omid/opt/anaconda3/lib/python3.8/site-packages/sklearn/covariance/_robust_covariance.py:166: RuntimeWarning: Determinant has increased; this should not happen: log(det) > log(previous_det) (-3.178981904695171 > -3.458627674337212). You may want to try with a higher value of support_fraction (current value: 0.516).\n",
      "  warnings.warn(\"Determinant has increased; this should not happen: \"\n",
      "/Users/omid/opt/anaconda3/lib/python3.8/site-packages/sklearn/covariance/_robust_covariance.py:166: RuntimeWarning: Determinant has increased; this should not happen: log(det) > log(previous_det) (-3.471853813457306 > -3.560407661907474). You may want to try with a higher value of support_fraction (current value: 0.516).\n",
      "  warnings.warn(\"Determinant has increased; this should not happen: \"\n",
      "/Users/omid/opt/anaconda3/lib/python3.8/site-packages/sklearn/covariance/_robust_covariance.py:166: RuntimeWarning: Determinant has increased; this should not happen: log(det) > log(previous_det) (-3.480052558989268 > -3.965243089879111). You may want to try with a higher value of support_fraction (current value: 0.516).\n",
      "  warnings.warn(\"Determinant has increased; this should not happen: \"\n",
      "/Users/omid/opt/anaconda3/lib/python3.8/site-packages/sklearn/covariance/_robust_covariance.py:166: RuntimeWarning: Determinant has increased; this should not happen: log(det) > log(previous_det) (-3.394925501631569 > -4.493488836530805). You may want to try with a higher value of support_fraction (current value: 0.516).\n",
      "  warnings.warn(\"Determinant has increased; this should not happen: \"\n",
      "/Users/omid/opt/anaconda3/lib/python3.8/site-packages/sklearn/covariance/_robust_covariance.py:166: RuntimeWarning: Determinant has increased; this should not happen: log(det) > log(previous_det) (-3.052516427833917 > -4.103161861961604). You may want to try with a higher value of support_fraction (current value: 0.516).\n",
      "  warnings.warn(\"Determinant has increased; this should not happen: \"\n",
      "/Users/omid/opt/anaconda3/lib/python3.8/site-packages/sklearn/covariance/_robust_covariance.py:166: RuntimeWarning: Determinant has increased; this should not happen: log(det) > log(previous_det) (-3.030922103844707 > -3.230097464192578). You may want to try with a higher value of support_fraction (current value: 0.516).\n",
      "  warnings.warn(\"Determinant has increased; this should not happen: \"\n",
      "/Users/omid/opt/anaconda3/lib/python3.8/site-packages/sklearn/covariance/_robust_covariance.py:166: RuntimeWarning: Determinant has increased; this should not happen: log(det) > log(previous_det) (-3.395933991122137 > -3.789600903726559). You may want to try with a higher value of support_fraction (current value: 0.516).\n",
      "  warnings.warn(\"Determinant has increased; this should not happen: \"\n",
      "/Users/omid/opt/anaconda3/lib/python3.8/site-packages/sklearn/covariance/_robust_covariance.py:166: RuntimeWarning: Determinant has increased; this should not happen: log(det) > log(previous_det) (-4.042681705897374 > -4.161226505536549). You may want to try with a higher value of support_fraction (current value: 0.516).\n",
      "  warnings.warn(\"Determinant has increased; this should not happen: \"\n",
      "/Users/omid/opt/anaconda3/lib/python3.8/site-packages/sklearn/covariance/_robust_covariance.py:166: RuntimeWarning: Determinant has increased; this should not happen: log(det) > log(previous_det) (-3.257641216813740 > -3.258034849274933). You may want to try with a higher value of support_fraction (current value: 0.516).\n",
      "  warnings.warn(\"Determinant has increased; this should not happen: \"\n",
      "/Users/omid/opt/anaconda3/lib/python3.8/site-packages/sklearn/covariance/_robust_covariance.py:166: RuntimeWarning: Determinant has increased; this should not happen: log(det) > log(previous_det) (-3.221192261997789 > -3.509674475492544). You may want to try with a higher value of support_fraction (current value: 0.516).\n",
      "  warnings.warn(\"Determinant has increased; this should not happen: \"\n",
      "/Users/omid/opt/anaconda3/lib/python3.8/site-packages/sklearn/covariance/_robust_covariance.py:166: RuntimeWarning: Determinant has increased; this should not happen: log(det) > log(previous_det) (-3.313747357702264 > -3.465299838218597). You may want to try with a higher value of support_fraction (current value: 0.516).\n",
      "  warnings.warn(\"Determinant has increased; this should not happen: \"\n",
      "/Users/omid/opt/anaconda3/lib/python3.8/site-packages/sklearn/covariance/_robust_covariance.py:166: RuntimeWarning: Determinant has increased; this should not happen: log(det) > log(previous_det) (-3.651155683929783 > -7.621251299486048). You may want to try with a higher value of support_fraction (current value: 0.516).\n",
      "  warnings.warn(\"Determinant has increased; this should not happen: \"\n",
      "/Users/omid/opt/anaconda3/lib/python3.8/site-packages/sklearn/covariance/_robust_covariance.py:166: RuntimeWarning: Determinant has increased; this should not happen: log(det) > log(previous_det) (-3.218838490556191 > -3.727690112418474). You may want to try with a higher value of support_fraction (current value: 0.516).\n",
      "  warnings.warn(\"Determinant has increased; this should not happen: \"\n",
      "/Users/omid/opt/anaconda3/lib/python3.8/site-packages/sklearn/covariance/_robust_covariance.py:166: RuntimeWarning: Determinant has increased; this should not happen: log(det) > log(previous_det) (-3.087882265316219 > -3.458272369765210). You may want to try with a higher value of support_fraction (current value: 0.516).\n",
      "  warnings.warn(\"Determinant has increased; this should not happen: \"\n",
      "/Users/omid/opt/anaconda3/lib/python3.8/site-packages/sklearn/covariance/_robust_covariance.py:166: RuntimeWarning: Determinant has increased; this should not happen: log(det) > log(previous_det) (-3.322609870778091 > -3.669803451160739). You may want to try with a higher value of support_fraction (current value: 0.516).\n",
      "  warnings.warn(\"Determinant has increased; this should not happen: \"\n"
     ]
    },
    {
     "name": "stderr",
     "output_type": "stream",
     "text": [
      "/Users/omid/opt/anaconda3/lib/python3.8/site-packages/sklearn/covariance/_robust_covariance.py:166: RuntimeWarning: Determinant has increased; this should not happen: log(det) > log(previous_det) (-2.994386988289088 > -5.412149333418974). You may want to try with a higher value of support_fraction (current value: 0.516).\n",
      "  warnings.warn(\"Determinant has increased; this should not happen: \"\n",
      "/Users/omid/opt/anaconda3/lib/python3.8/site-packages/sklearn/covariance/_robust_covariance.py:166: RuntimeWarning: Determinant has increased; this should not happen: log(det) > log(previous_det) (-3.451897767128230 > -3.535739640135073). You may want to try with a higher value of support_fraction (current value: 0.516).\n",
      "  warnings.warn(\"Determinant has increased; this should not happen: \"\n",
      "/Users/omid/opt/anaconda3/lib/python3.8/site-packages/sklearn/covariance/_robust_covariance.py:166: RuntimeWarning: Determinant has increased; this should not happen: log(det) > log(previous_det) (-3.030366615344946 > -4.042810683155496). You may want to try with a higher value of support_fraction (current value: 0.516).\n",
      "  warnings.warn(\"Determinant has increased; this should not happen: \"\n",
      "/Users/omid/opt/anaconda3/lib/python3.8/site-packages/sklearn/covariance/_robust_covariance.py:166: RuntimeWarning: Determinant has increased; this should not happen: log(det) > log(previous_det) (-3.566017355817863 > -5.386322142735509). You may want to try with a higher value of support_fraction (current value: 0.516).\n",
      "  warnings.warn(\"Determinant has increased; this should not happen: \"\n",
      "/Users/omid/opt/anaconda3/lib/python3.8/site-packages/sklearn/covariance/_robust_covariance.py:166: RuntimeWarning: Determinant has increased; this should not happen: log(det) > log(previous_det) (-3.999623607290756 > -4.720833720058764). You may want to try with a higher value of support_fraction (current value: 0.516).\n",
      "  warnings.warn(\"Determinant has increased; this should not happen: \"\n",
      "/Users/omid/opt/anaconda3/lib/python3.8/site-packages/sklearn/covariance/_robust_covariance.py:166: RuntimeWarning: Determinant has increased; this should not happen: log(det) > log(previous_det) (-3.119387512633274 > -3.647516223017069). You may want to try with a higher value of support_fraction (current value: 0.516).\n",
      "  warnings.warn(\"Determinant has increased; this should not happen: \"\n",
      "/Users/omid/opt/anaconda3/lib/python3.8/site-packages/sklearn/covariance/_robust_covariance.py:166: RuntimeWarning: Determinant has increased; this should not happen: log(det) > log(previous_det) (-3.359186466298958 > -3.678937241891127). You may want to try with a higher value of support_fraction (current value: 0.516).\n",
      "  warnings.warn(\"Determinant has increased; this should not happen: \"\n",
      "/Users/omid/opt/anaconda3/lib/python3.8/site-packages/sklearn/covariance/_robust_covariance.py:166: RuntimeWarning: Determinant has increased; this should not happen: log(det) > log(previous_det) (-3.554593767253795 > -3.890285638509662). You may want to try with a higher value of support_fraction (current value: 0.516).\n",
      "  warnings.warn(\"Determinant has increased; this should not happen: \"\n",
      "/Users/omid/opt/anaconda3/lib/python3.8/site-packages/sklearn/covariance/_robust_covariance.py:166: RuntimeWarning: Determinant has increased; this should not happen: log(det) > log(previous_det) (-3.109648388442659 > -3.308269267453635). You may want to try with a higher value of support_fraction (current value: 0.516).\n",
      "  warnings.warn(\"Determinant has increased; this should not happen: \"\n",
      "/Users/omid/opt/anaconda3/lib/python3.8/site-packages/sklearn/covariance/_robust_covariance.py:166: RuntimeWarning: Determinant has increased; this should not happen: log(det) > log(previous_det) (-3.332503669625103 > -4.340686700192965). You may want to try with a higher value of support_fraction (current value: 0.516).\n",
      "  warnings.warn(\"Determinant has increased; this should not happen: \"\n",
      "/Users/omid/opt/anaconda3/lib/python3.8/site-packages/sklearn/covariance/_robust_covariance.py:166: RuntimeWarning: Determinant has increased; this should not happen: log(det) > log(previous_det) (-3.253739823159069 > -3.691272042109997). You may want to try with a higher value of support_fraction (current value: 0.516).\n",
      "  warnings.warn(\"Determinant has increased; this should not happen: \"\n",
      "/Users/omid/opt/anaconda3/lib/python3.8/site-packages/sklearn/covariance/_robust_covariance.py:166: RuntimeWarning: Determinant has increased; this should not happen: log(det) > log(previous_det) (-3.584264800157293 > -3.720958092657218). You may want to try with a higher value of support_fraction (current value: 0.516).\n",
      "  warnings.warn(\"Determinant has increased; this should not happen: \"\n",
      "/Users/omid/opt/anaconda3/lib/python3.8/site-packages/sklearn/covariance/_robust_covariance.py:166: RuntimeWarning: Determinant has increased; this should not happen: log(det) > log(previous_det) (-2.947519498508694 > -3.188855062191230). You may want to try with a higher value of support_fraction (current value: 0.516).\n",
      "  warnings.warn(\"Determinant has increased; this should not happen: \"\n",
      "/Users/omid/opt/anaconda3/lib/python3.8/site-packages/sklearn/covariance/_robust_covariance.py:166: RuntimeWarning: Determinant has increased; this should not happen: log(det) > log(previous_det) (-3.255251414927251 > -4.172184570736587). You may want to try with a higher value of support_fraction (current value: 0.516).\n",
      "  warnings.warn(\"Determinant has increased; this should not happen: \"\n",
      "/Users/omid/opt/anaconda3/lib/python3.8/site-packages/sklearn/covariance/_robust_covariance.py:166: RuntimeWarning: Determinant has increased; this should not happen: log(det) > log(previous_det) (-2.770405292948679 > -3.197685115063912). You may want to try with a higher value of support_fraction (current value: 0.516).\n",
      "  warnings.warn(\"Determinant has increased; this should not happen: \"\n",
      "/Users/omid/opt/anaconda3/lib/python3.8/site-packages/sklearn/covariance/_robust_covariance.py:166: RuntimeWarning: Determinant has increased; this should not happen: log(det) > log(previous_det) (-3.264299730233127 > -3.409617716189844). You may want to try with a higher value of support_fraction (current value: 0.516).\n",
      "  warnings.warn(\"Determinant has increased; this should not happen: \"\n",
      "/Users/omid/opt/anaconda3/lib/python3.8/site-packages/sklearn/covariance/_robust_covariance.py:166: RuntimeWarning: Determinant has increased; this should not happen: log(det) > log(previous_det) (-3.366098793738958 > -3.845256614836478). You may want to try with a higher value of support_fraction (current value: 0.516).\n",
      "  warnings.warn(\"Determinant has increased; this should not happen: \"\n",
      "/Users/omid/opt/anaconda3/lib/python3.8/site-packages/sklearn/covariance/_robust_covariance.py:166: RuntimeWarning: Determinant has increased; this should not happen: log(det) > log(previous_det) (-3.256256984744619 > -3.606202401272203). You may want to try with a higher value of support_fraction (current value: 0.516).\n",
      "  warnings.warn(\"Determinant has increased; this should not happen: \"\n",
      "/Users/omid/opt/anaconda3/lib/python3.8/site-packages/sklearn/covariance/_robust_covariance.py:166: RuntimeWarning: Determinant has increased; this should not happen: log(det) > log(previous_det) (-3.137740545364130 > -3.433314215837425). You may want to try with a higher value of support_fraction (current value: 0.516).\n",
      "  warnings.warn(\"Determinant has increased; this should not happen: \"\n",
      "/Users/omid/opt/anaconda3/lib/python3.8/site-packages/sklearn/covariance/_robust_covariance.py:166: RuntimeWarning: Determinant has increased; this should not happen: log(det) > log(previous_det) (-3.284096020267775 > -4.109394230868354). You may want to try with a higher value of support_fraction (current value: 0.516).\n",
      "  warnings.warn(\"Determinant has increased; this should not happen: \"\n",
      "/Users/omid/opt/anaconda3/lib/python3.8/site-packages/sklearn/covariance/_robust_covariance.py:166: RuntimeWarning: Determinant has increased; this should not happen: log(det) > log(previous_det) (-3.309116517286222 > -3.594184923293833). You may want to try with a higher value of support_fraction (current value: 0.516).\n",
      "  warnings.warn(\"Determinant has increased; this should not happen: \"\n",
      "/Users/omid/opt/anaconda3/lib/python3.8/site-packages/sklearn/covariance/_robust_covariance.py:166: RuntimeWarning: Determinant has increased; this should not happen: log(det) > log(previous_det) (-3.494774397412051 > -3.555417505155548). You may want to try with a higher value of support_fraction (current value: 0.516).\n",
      "  warnings.warn(\"Determinant has increased; this should not happen: \"\n",
      "/Users/omid/opt/anaconda3/lib/python3.8/site-packages/sklearn/covariance/_robust_covariance.py:166: RuntimeWarning: Determinant has increased; this should not happen: log(det) > log(previous_det) (-3.266907223502573 > -3.478435639073533). You may want to try with a higher value of support_fraction (current value: 0.516).\n",
      "  warnings.warn(\"Determinant has increased; this should not happen: \"\n",
      "/Users/omid/opt/anaconda3/lib/python3.8/site-packages/sklearn/covariance/_robust_covariance.py:166: RuntimeWarning: Determinant has increased; this should not happen: log(det) > log(previous_det) (-2.989557039502406 > -4.121755978108020). You may want to try with a higher value of support_fraction (current value: 0.516).\n",
      "  warnings.warn(\"Determinant has increased; this should not happen: \"\n",
      "/Users/omid/opt/anaconda3/lib/python3.8/site-packages/sklearn/covariance/_robust_covariance.py:166: RuntimeWarning: Determinant has increased; this should not happen: log(det) > log(previous_det) (-2.850556088890714 > -4.048972666003257). You may want to try with a higher value of support_fraction (current value: 0.516).\n",
      "  warnings.warn(\"Determinant has increased; this should not happen: \"\n",
      "/Users/omid/opt/anaconda3/lib/python3.8/site-packages/sklearn/covariance/_robust_covariance.py:166: RuntimeWarning: Determinant has increased; this should not happen: log(det) > log(previous_det) (-3.300176432511359 > -3.987073772968724). You may want to try with a higher value of support_fraction (current value: 0.516).\n",
      "  warnings.warn(\"Determinant has increased; this should not happen: \"\n",
      "/Users/omid/opt/anaconda3/lib/python3.8/site-packages/sklearn/covariance/_robust_covariance.py:166: RuntimeWarning: Determinant has increased; this should not happen: log(det) > log(previous_det) (-3.081335584194896 > -3.859306716425271). You may want to try with a higher value of support_fraction (current value: 0.516).\n",
      "  warnings.warn(\"Determinant has increased; this should not happen: \"\n",
      "/Users/omid/opt/anaconda3/lib/python3.8/site-packages/sklearn/covariance/_robust_covariance.py:166: RuntimeWarning: Determinant has increased; this should not happen: log(det) > log(previous_det) (-3.123711403110986 > -3.168969349313690). You may want to try with a higher value of support_fraction (current value: 0.516).\n",
      "  warnings.warn(\"Determinant has increased; this should not happen: \"\n",
      "/Users/omid/opt/anaconda3/lib/python3.8/site-packages/sklearn/covariance/_robust_covariance.py:166: RuntimeWarning: Determinant has increased; this should not happen: log(det) > log(previous_det) (-3.177999075044301 > -3.619041483678016). You may want to try with a higher value of support_fraction (current value: 0.516).\n",
      "  warnings.warn(\"Determinant has increased; this should not happen: \"\n",
      "/Users/omid/opt/anaconda3/lib/python3.8/site-packages/sklearn/covariance/_robust_covariance.py:166: RuntimeWarning: Determinant has increased; this should not happen: log(det) > log(previous_det) (-3.553857187518668 > -4.066499950665953). You may want to try with a higher value of support_fraction (current value: 0.516).\n",
      "  warnings.warn(\"Determinant has increased; this should not happen: \"\n",
      "/Users/omid/opt/anaconda3/lib/python3.8/site-packages/sklearn/covariance/_robust_covariance.py:166: RuntimeWarning: Determinant has increased; this should not happen: log(det) > log(previous_det) (-3.258191228593219 > -3.822138292019662). You may want to try with a higher value of support_fraction (current value: 0.516).\n",
      "  warnings.warn(\"Determinant has increased; this should not happen: \"\n",
      "/Users/omid/opt/anaconda3/lib/python3.8/site-packages/sklearn/covariance/_robust_covariance.py:166: RuntimeWarning: Determinant has increased; this should not happen: log(det) > log(previous_det) (-3.564273302091769 > -3.867333217702818). You may want to try with a higher value of support_fraction (current value: 0.516).\n",
      "  warnings.warn(\"Determinant has increased; this should not happen: \"\n",
      "/Users/omid/opt/anaconda3/lib/python3.8/site-packages/sklearn/covariance/_robust_covariance.py:166: RuntimeWarning: Determinant has increased; this should not happen: log(det) > log(previous_det) (-3.086710018800748 > -3.187536150457788). You may want to try with a higher value of support_fraction (current value: 0.516).\n",
      "  warnings.warn(\"Determinant has increased; this should not happen: \"\n",
      "/Users/omid/opt/anaconda3/lib/python3.8/site-packages/sklearn/covariance/_robust_covariance.py:166: RuntimeWarning: Determinant has increased; this should not happen: log(det) > log(previous_det) (-2.783257699889390 > -4.217126872338328). You may want to try with a higher value of support_fraction (current value: 0.516).\n",
      "  warnings.warn(\"Determinant has increased; this should not happen: \"\n",
      "/Users/omid/opt/anaconda3/lib/python3.8/site-packages/sklearn/covariance/_robust_covariance.py:166: RuntimeWarning: Determinant has increased; this should not happen: log(det) > log(previous_det) (-3.068925345541746 > -4.021642792263968). You may want to try with a higher value of support_fraction (current value: 0.516).\n",
      "  warnings.warn(\"Determinant has increased; this should not happen: \"\n",
      "/Users/omid/opt/anaconda3/lib/python3.8/site-packages/sklearn/covariance/_robust_covariance.py:166: RuntimeWarning: Determinant has increased; this should not happen: log(det) > log(previous_det) (-3.352040313353132 > -3.743480222646214). You may want to try with a higher value of support_fraction (current value: 0.516).\n",
      "  warnings.warn(\"Determinant has increased; this should not happen: \"\n",
      "/Users/omid/opt/anaconda3/lib/python3.8/site-packages/sklearn/covariance/_robust_covariance.py:166: RuntimeWarning: Determinant has increased; this should not happen: log(det) > log(previous_det) (-3.092797098600474 > -4.109346095161630). You may want to try with a higher value of support_fraction (current value: 0.516).\n",
      "  warnings.warn(\"Determinant has increased; this should not happen: \"\n",
      "/Users/omid/opt/anaconda3/lib/python3.8/site-packages/sklearn/covariance/_robust_covariance.py:166: RuntimeWarning: Determinant has increased; this should not happen: log(det) > log(previous_det) (-3.175670748383162 > -3.406262986930106). You may want to try with a higher value of support_fraction (current value: 0.516).\n",
      "  warnings.warn(\"Determinant has increased; this should not happen: \"\n",
      "/Users/omid/opt/anaconda3/lib/python3.8/site-packages/sklearn/covariance/_robust_covariance.py:166: RuntimeWarning: Determinant has increased; this should not happen: log(det) > log(previous_det) (-2.973173826888422 > -3.038097765807690). You may want to try with a higher value of support_fraction (current value: 0.516).\n",
      "  warnings.warn(\"Determinant has increased; this should not happen: \"\n",
      "/Users/omid/opt/anaconda3/lib/python3.8/site-packages/sklearn/covariance/_robust_covariance.py:166: RuntimeWarning: Determinant has increased; this should not happen: log(det) > log(previous_det) (-3.136688506954187 > -4.233133249363696). You may want to try with a higher value of support_fraction (current value: 0.516).\n",
      "  warnings.warn(\"Determinant has increased; this should not happen: \"\n",
      "/Users/omid/opt/anaconda3/lib/python3.8/site-packages/sklearn/covariance/_robust_covariance.py:166: RuntimeWarning: Determinant has increased; this should not happen: log(det) > log(previous_det) (-3.028088589346382 > -3.579966428075643). You may want to try with a higher value of support_fraction (current value: 0.516).\n",
      "  warnings.warn(\"Determinant has increased; this should not happen: \"\n",
      "/Users/omid/opt/anaconda3/lib/python3.8/site-packages/sklearn/covariance/_robust_covariance.py:166: RuntimeWarning: Determinant has increased; this should not happen: log(det) > log(previous_det) (-3.435228588482955 > -4.159280870408390). You may want to try with a higher value of support_fraction (current value: 0.516).\n",
      "  warnings.warn(\"Determinant has increased; this should not happen: \"\n",
      "/Users/omid/opt/anaconda3/lib/python3.8/site-packages/sklearn/covariance/_robust_covariance.py:166: RuntimeWarning: Determinant has increased; this should not happen: log(det) > log(previous_det) (-3.460645664852532 > -4.169272646677177). You may want to try with a higher value of support_fraction (current value: 0.516).\n",
      "  warnings.warn(\"Determinant has increased; this should not happen: \"\n",
      "/Users/omid/opt/anaconda3/lib/python3.8/site-packages/sklearn/covariance/_robust_covariance.py:166: RuntimeWarning: Determinant has increased; this should not happen: log(det) > log(previous_det) (-3.751232554037951 > -4.207884228183177). You may want to try with a higher value of support_fraction (current value: 0.516).\n",
      "  warnings.warn(\"Determinant has increased; this should not happen: \"\n",
      "/Users/omid/opt/anaconda3/lib/python3.8/site-packages/sklearn/covariance/_robust_covariance.py:166: RuntimeWarning: Determinant has increased; this should not happen: log(det) > log(previous_det) (-2.981544259136358 > -3.755201166517283). You may want to try with a higher value of support_fraction (current value: 0.516).\n",
      "  warnings.warn(\"Determinant has increased; this should not happen: \"\n",
      "/Users/omid/opt/anaconda3/lib/python3.8/site-packages/sklearn/covariance/_robust_covariance.py:166: RuntimeWarning: Determinant has increased; this should not happen: log(det) > log(previous_det) (-3.780358628871314 > -6.686328621115400). You may want to try with a higher value of support_fraction (current value: 0.516).\n",
      "  warnings.warn(\"Determinant has increased; this should not happen: \"\n",
      "/Users/omid/opt/anaconda3/lib/python3.8/site-packages/sklearn/covariance/_robust_covariance.py:166: RuntimeWarning: Determinant has increased; this should not happen: log(det) > log(previous_det) (-3.348979587448833 > -3.432456865690822). You may want to try with a higher value of support_fraction (current value: 0.516).\n",
      "  warnings.warn(\"Determinant has increased; this should not happen: \"\n",
      "/Users/omid/opt/anaconda3/lib/python3.8/site-packages/sklearn/covariance/_robust_covariance.py:166: RuntimeWarning: Determinant has increased; this should not happen: log(det) > log(previous_det) (-3.446386105126203 > -4.551467605455025). You may want to try with a higher value of support_fraction (current value: 0.516).\n",
      "  warnings.warn(\"Determinant has increased; this should not happen: \"\n",
      "/Users/omid/opt/anaconda3/lib/python3.8/site-packages/sklearn/covariance/_robust_covariance.py:166: RuntimeWarning: Determinant has increased; this should not happen: log(det) > log(previous_det) (-3.593489334217949 > -4.642875217990170). You may want to try with a higher value of support_fraction (current value: 0.516).\n",
      "  warnings.warn(\"Determinant has increased; this should not happen: \"\n",
      "/Users/omid/opt/anaconda3/lib/python3.8/site-packages/sklearn/covariance/_robust_covariance.py:166: RuntimeWarning: Determinant has increased; this should not happen: log(det) > log(previous_det) (-3.732135900566492 > -4.363435677000906). You may want to try with a higher value of support_fraction (current value: 0.516).\n",
      "  warnings.warn(\"Determinant has increased; this should not happen: \"\n",
      "/Users/omid/opt/anaconda3/lib/python3.8/site-packages/sklearn/covariance/_robust_covariance.py:166: RuntimeWarning: Determinant has increased; this should not happen: log(det) > log(previous_det) (-3.396884792159971 > -3.421119611611140). You may want to try with a higher value of support_fraction (current value: 0.516).\n",
      "  warnings.warn(\"Determinant has increased; this should not happen: \"\n",
      "/Users/omid/opt/anaconda3/lib/python3.8/site-packages/sklearn/covariance/_robust_covariance.py:166: RuntimeWarning: Determinant has increased; this should not happen: log(det) > log(previous_det) (-3.693102154504274 > -4.787609353060958). You may want to try with a higher value of support_fraction (current value: 0.516).\n",
      "  warnings.warn(\"Determinant has increased; this should not happen: \"\n",
      "/Users/omid/opt/anaconda3/lib/python3.8/site-packages/sklearn/covariance/_robust_covariance.py:166: RuntimeWarning: Determinant has increased; this should not happen: log(det) > log(previous_det) (-3.198176137532984 > -3.351714661993134). You may want to try with a higher value of support_fraction (current value: 0.516).\n",
      "  warnings.warn(\"Determinant has increased; this should not happen: \"\n",
      "/Users/omid/opt/anaconda3/lib/python3.8/site-packages/sklearn/covariance/_robust_covariance.py:166: RuntimeWarning: Determinant has increased; this should not happen: log(det) > log(previous_det) (-3.884900053022577 > -4.340862519926933). You may want to try with a higher value of support_fraction (current value: 0.516).\n",
      "  warnings.warn(\"Determinant has increased; this should not happen: \"\n",
      "/Users/omid/opt/anaconda3/lib/python3.8/site-packages/sklearn/covariance/_robust_covariance.py:166: RuntimeWarning: Determinant has increased; this should not happen: log(det) > log(previous_det) (-3.089784387626169 > -3.109778019923018). You may want to try with a higher value of support_fraction (current value: 0.516).\n",
      "  warnings.warn(\"Determinant has increased; this should not happen: \"\n",
      "/Users/omid/opt/anaconda3/lib/python3.8/site-packages/sklearn/covariance/_robust_covariance.py:166: RuntimeWarning: Determinant has increased; this should not happen: log(det) > log(previous_det) (-3.946517638476632 > -4.036036058538462). You may want to try with a higher value of support_fraction (current value: 0.516).\n",
      "  warnings.warn(\"Determinant has increased; this should not happen: \"\n",
      "/Users/omid/opt/anaconda3/lib/python3.8/site-packages/sklearn/covariance/_robust_covariance.py:166: RuntimeWarning: Determinant has increased; this should not happen: log(det) > log(previous_det) (-3.312155477655150 > -3.327457300018581). You may want to try with a higher value of support_fraction (current value: 0.516).\n",
      "  warnings.warn(\"Determinant has increased; this should not happen: \"\n",
      "/Users/omid/opt/anaconda3/lib/python3.8/site-packages/sklearn/covariance/_robust_covariance.py:166: RuntimeWarning: Determinant has increased; this should not happen: log(det) > log(previous_det) (-3.214050507139298 > -6.893485587234395). You may want to try with a higher value of support_fraction (current value: 0.516).\n",
      "  warnings.warn(\"Determinant has increased; this should not happen: \"\n",
      "/Users/omid/opt/anaconda3/lib/python3.8/site-packages/sklearn/covariance/_robust_covariance.py:166: RuntimeWarning: Determinant has increased; this should not happen: log(det) > log(previous_det) (-3.616352434645778 > -4.871499295584773). You may want to try with a higher value of support_fraction (current value: 0.516).\n",
      "  warnings.warn(\"Determinant has increased; this should not happen: \"\n",
      "/Users/omid/opt/anaconda3/lib/python3.8/site-packages/sklearn/covariance/_robust_covariance.py:166: RuntimeWarning: Determinant has increased; this should not happen: log(det) > log(previous_det) (-3.459865196023644 > -4.007715120792067). You may want to try with a higher value of support_fraction (current value: 0.516).\n",
      "  warnings.warn(\"Determinant has increased; this should not happen: \"\n",
      "/Users/omid/opt/anaconda3/lib/python3.8/site-packages/sklearn/covariance/_robust_covariance.py:166: RuntimeWarning: Determinant has increased; this should not happen: log(det) > log(previous_det) (-2.900891161399285 > -3.573151847260036). You may want to try with a higher value of support_fraction (current value: 0.516).\n",
      "  warnings.warn(\"Determinant has increased; this should not happen: \"\n",
      "/Users/omid/opt/anaconda3/lib/python3.8/site-packages/sklearn/covariance/_robust_covariance.py:166: RuntimeWarning: Determinant has increased; this should not happen: log(det) > log(previous_det) (-3.302700413837709 > -4.162896320951177). You may want to try with a higher value of support_fraction (current value: 0.516).\n",
      "  warnings.warn(\"Determinant has increased; this should not happen: \"\n",
      "/Users/omid/opt/anaconda3/lib/python3.8/site-packages/sklearn/covariance/_robust_covariance.py:166: RuntimeWarning: Determinant has increased; this should not happen: log(det) > log(previous_det) (-3.393651637244838 > -3.910353859199498). You may want to try with a higher value of support_fraction (current value: 0.516).\n",
      "  warnings.warn(\"Determinant has increased; this should not happen: \"\n",
      "/Users/omid/opt/anaconda3/lib/python3.8/site-packages/sklearn/covariance/_robust_covariance.py:166: RuntimeWarning: Determinant has increased; this should not happen: log(det) > log(previous_det) (-3.222854906598458 > -3.486297391864221). You may want to try with a higher value of support_fraction (current value: 0.516).\n",
      "  warnings.warn(\"Determinant has increased; this should not happen: \"\n"
     ]
    },
    {
     "name": "stderr",
     "output_type": "stream",
     "text": [
      "/Users/omid/opt/anaconda3/lib/python3.8/site-packages/sklearn/covariance/_robust_covariance.py:166: RuntimeWarning: Determinant has increased; this should not happen: log(det) > log(previous_det) (-3.941424711902425 > -4.656311940651744). You may want to try with a higher value of support_fraction (current value: 0.516).\n",
      "  warnings.warn(\"Determinant has increased; this should not happen: \"\n",
      "/Users/omid/opt/anaconda3/lib/python3.8/site-packages/sklearn/covariance/_robust_covariance.py:166: RuntimeWarning: Determinant has increased; this should not happen: log(det) > log(previous_det) (-2.973746854467846 > -3.216914761976032). You may want to try with a higher value of support_fraction (current value: 0.516).\n",
      "  warnings.warn(\"Determinant has increased; this should not happen: \"\n",
      "/Users/omid/opt/anaconda3/lib/python3.8/site-packages/sklearn/covariance/_robust_covariance.py:166: RuntimeWarning: Determinant has increased; this should not happen: log(det) > log(previous_det) (-2.516750323235113 > -3.158521746211266). You may want to try with a higher value of support_fraction (current value: 0.516).\n",
      "  warnings.warn(\"Determinant has increased; this should not happen: \"\n",
      "/Users/omid/opt/anaconda3/lib/python3.8/site-packages/sklearn/covariance/_robust_covariance.py:166: RuntimeWarning: Determinant has increased; this should not happen: log(det) > log(previous_det) (-3.017226818397832 > -3.241573323986973). You may want to try with a higher value of support_fraction (current value: 0.516).\n",
      "  warnings.warn(\"Determinant has increased; this should not happen: \"\n",
      "/Users/omid/opt/anaconda3/lib/python3.8/site-packages/sklearn/covariance/_robust_covariance.py:166: RuntimeWarning: Determinant has increased; this should not happen: log(det) > log(previous_det) (-3.441374119463939 > -3.690815664562377). You may want to try with a higher value of support_fraction (current value: 0.516).\n",
      "  warnings.warn(\"Determinant has increased; this should not happen: \"\n",
      "/Users/omid/opt/anaconda3/lib/python3.8/site-packages/sklearn/covariance/_robust_covariance.py:166: RuntimeWarning: Determinant has increased; this should not happen: log(det) > log(previous_det) (-3.825585211989432 > -4.059376708094653). You may want to try with a higher value of support_fraction (current value: 0.516).\n",
      "  warnings.warn(\"Determinant has increased; this should not happen: \"\n",
      "/Users/omid/opt/anaconda3/lib/python3.8/site-packages/sklearn/covariance/_robust_covariance.py:166: RuntimeWarning: Determinant has increased; this should not happen: log(det) > log(previous_det) (-2.940621216299359 > -3.279167617491970). You may want to try with a higher value of support_fraction (current value: 0.516).\n",
      "  warnings.warn(\"Determinant has increased; this should not happen: \"\n",
      "/Users/omid/opt/anaconda3/lib/python3.8/site-packages/sklearn/covariance/_robust_covariance.py:166: RuntimeWarning: Determinant has increased; this should not happen: log(det) > log(previous_det) (-3.041537712971172 > -3.348622333005954). You may want to try with a higher value of support_fraction (current value: 0.516).\n",
      "  warnings.warn(\"Determinant has increased; this should not happen: \"\n",
      "/Users/omid/opt/anaconda3/lib/python3.8/site-packages/sklearn/covariance/_robust_covariance.py:166: RuntimeWarning: Determinant has increased; this should not happen: log(det) > log(previous_det) (-3.061626516688811 > -3.230413572998740). You may want to try with a higher value of support_fraction (current value: 0.516).\n",
      "  warnings.warn(\"Determinant has increased; this should not happen: \"\n",
      "/Users/omid/opt/anaconda3/lib/python3.8/site-packages/sklearn/covariance/_robust_covariance.py:166: RuntimeWarning: Determinant has increased; this should not happen: log(det) > log(previous_det) (-3.107159079849991 > -3.217019341468800). You may want to try with a higher value of support_fraction (current value: 0.516).\n",
      "  warnings.warn(\"Determinant has increased; this should not happen: \"\n",
      "/Users/omid/opt/anaconda3/lib/python3.8/site-packages/sklearn/covariance/_robust_covariance.py:166: RuntimeWarning: Determinant has increased; this should not happen: log(det) > log(previous_det) (-3.444439072009438 > -3.523101308201390). You may want to try with a higher value of support_fraction (current value: 0.516).\n",
      "  warnings.warn(\"Determinant has increased; this should not happen: \"\n",
      "/Users/omid/opt/anaconda3/lib/python3.8/site-packages/sklearn/covariance/_robust_covariance.py:166: RuntimeWarning: Determinant has increased; this should not happen: log(det) > log(previous_det) (-3.408329861468918 > -4.208137256367307). You may want to try with a higher value of support_fraction (current value: 0.516).\n",
      "  warnings.warn(\"Determinant has increased; this should not happen: \"\n",
      "/Users/omid/opt/anaconda3/lib/python3.8/site-packages/sklearn/covariance/_robust_covariance.py:166: RuntimeWarning: Determinant has increased; this should not happen: log(det) > log(previous_det) (-3.779643040709104 > -3.960777976855073). You may want to try with a higher value of support_fraction (current value: 0.516).\n",
      "  warnings.warn(\"Determinant has increased; this should not happen: \"\n",
      "/Users/omid/opt/anaconda3/lib/python3.8/site-packages/sklearn/covariance/_robust_covariance.py:166: RuntimeWarning: Determinant has increased; this should not happen: log(det) > log(previous_det) (-3.429167309990714 > -3.504277709192259). You may want to try with a higher value of support_fraction (current value: 0.516).\n",
      "  warnings.warn(\"Determinant has increased; this should not happen: \"\n",
      "/Users/omid/opt/anaconda3/lib/python3.8/site-packages/sklearn/covariance/_robust_covariance.py:166: RuntimeWarning: Determinant has increased; this should not happen: log(det) > log(previous_det) (-3.823224837567368 > -3.905214324614548). You may want to try with a higher value of support_fraction (current value: 0.516).\n",
      "  warnings.warn(\"Determinant has increased; this should not happen: \"\n",
      "/Users/omid/opt/anaconda3/lib/python3.8/site-packages/sklearn/covariance/_robust_covariance.py:166: RuntimeWarning: Determinant has increased; this should not happen: log(det) > log(previous_det) (-3.235024760592609 > -3.644719789084144). You may want to try with a higher value of support_fraction (current value: 0.516).\n",
      "  warnings.warn(\"Determinant has increased; this should not happen: \"\n",
      "/Users/omid/opt/anaconda3/lib/python3.8/site-packages/sklearn/covariance/_robust_covariance.py:166: RuntimeWarning: Determinant has increased; this should not happen: log(det) > log(previous_det) (-3.289007286882772 > -4.838401310076481). You may want to try with a higher value of support_fraction (current value: 0.516).\n",
      "  warnings.warn(\"Determinant has increased; this should not happen: \"\n",
      "/Users/omid/opt/anaconda3/lib/python3.8/site-packages/sklearn/covariance/_robust_covariance.py:166: RuntimeWarning: Determinant has increased; this should not happen: log(det) > log(previous_det) (-3.261482254280729 > -4.139974097450102). You may want to try with a higher value of support_fraction (current value: 0.516).\n",
      "  warnings.warn(\"Determinant has increased; this should not happen: \"\n",
      "/Users/omid/opt/anaconda3/lib/python3.8/site-packages/sklearn/covariance/_robust_covariance.py:166: RuntimeWarning: Determinant has increased; this should not happen: log(det) > log(previous_det) (-3.359743092868825 > -3.512247369270225). You may want to try with a higher value of support_fraction (current value: 0.516).\n",
      "  warnings.warn(\"Determinant has increased; this should not happen: \"\n",
      "/Users/omid/opt/anaconda3/lib/python3.8/site-packages/sklearn/covariance/_robust_covariance.py:166: RuntimeWarning: Determinant has increased; this should not happen: log(det) > log(previous_det) (-3.346887714810512 > -4.054755810706199). You may want to try with a higher value of support_fraction (current value: 0.516).\n",
      "  warnings.warn(\"Determinant has increased; this should not happen: \"\n",
      "/Users/omid/opt/anaconda3/lib/python3.8/site-packages/sklearn/covariance/_robust_covariance.py:166: RuntimeWarning: Determinant has increased; this should not happen: log(det) > log(previous_det) (-3.179681449425569 > -13.143474224796570). You may want to try with a higher value of support_fraction (current value: 0.516).\n",
      "  warnings.warn(\"Determinant has increased; this should not happen: \"\n",
      "/Users/omid/opt/anaconda3/lib/python3.8/site-packages/sklearn/covariance/_robust_covariance.py:166: RuntimeWarning: Determinant has increased; this should not happen: log(det) > log(previous_det) (-3.651224052147281 > -3.784031488860421). You may want to try with a higher value of support_fraction (current value: 0.516).\n",
      "  warnings.warn(\"Determinant has increased; this should not happen: \"\n",
      "/Users/omid/opt/anaconda3/lib/python3.8/site-packages/sklearn/covariance/_robust_covariance.py:166: RuntimeWarning: Determinant has increased; this should not happen: log(det) > log(previous_det) (-3.619117148716787 > -4.052384688570253). You may want to try with a higher value of support_fraction (current value: 0.516).\n",
      "  warnings.warn(\"Determinant has increased; this should not happen: \"\n",
      "/Users/omid/opt/anaconda3/lib/python3.8/site-packages/sklearn/covariance/_robust_covariance.py:166: RuntimeWarning: Determinant has increased; this should not happen: log(det) > log(previous_det) (-3.342976877155875 > -3.659776119796222). You may want to try with a higher value of support_fraction (current value: 0.516).\n",
      "  warnings.warn(\"Determinant has increased; this should not happen: \"\n",
      "/Users/omid/opt/anaconda3/lib/python3.8/site-packages/sklearn/covariance/_robust_covariance.py:166: RuntimeWarning: Determinant has increased; this should not happen: log(det) > log(previous_det) (-3.523196393894551 > -3.845838062163779). You may want to try with a higher value of support_fraction (current value: 0.516).\n",
      "  warnings.warn(\"Determinant has increased; this should not happen: \"\n",
      "/Users/omid/opt/anaconda3/lib/python3.8/site-packages/sklearn/covariance/_robust_covariance.py:166: RuntimeWarning: Determinant has increased; this should not happen: log(det) > log(previous_det) (-3.512697249169102 > -4.028015459490700). You may want to try with a higher value of support_fraction (current value: 0.516).\n",
      "  warnings.warn(\"Determinant has increased; this should not happen: \"\n",
      "/Users/omid/opt/anaconda3/lib/python3.8/site-packages/sklearn/covariance/_robust_covariance.py:166: RuntimeWarning: Determinant has increased; this should not happen: log(det) > log(previous_det) (-3.864522044106565 > -4.139626650739970). You may want to try with a higher value of support_fraction (current value: 0.516).\n",
      "  warnings.warn(\"Determinant has increased; this should not happen: \"\n",
      "/Users/omid/opt/anaconda3/lib/python3.8/site-packages/sklearn/covariance/_robust_covariance.py:166: RuntimeWarning: Determinant has increased; this should not happen: log(det) > log(previous_det) (-3.603729591167882 > -6.232306863857197). You may want to try with a higher value of support_fraction (current value: 0.516).\n",
      "  warnings.warn(\"Determinant has increased; this should not happen: \"\n",
      "/Users/omid/opt/anaconda3/lib/python3.8/site-packages/sklearn/covariance/_robust_covariance.py:166: RuntimeWarning: Determinant has increased; this should not happen: log(det) > log(previous_det) (-3.347348450049266 > -4.413703630781759). You may want to try with a higher value of support_fraction (current value: 0.516).\n",
      "  warnings.warn(\"Determinant has increased; this should not happen: \"\n",
      "/Users/omid/opt/anaconda3/lib/python3.8/site-packages/sklearn/covariance/_robust_covariance.py:166: RuntimeWarning: Determinant has increased; this should not happen: log(det) > log(previous_det) (-3.152425085946609 > -3.334839458264678). You may want to try with a higher value of support_fraction (current value: 0.516).\n",
      "  warnings.warn(\"Determinant has increased; this should not happen: \"\n",
      "/Users/omid/opt/anaconda3/lib/python3.8/site-packages/sklearn/covariance/_robust_covariance.py:166: RuntimeWarning: Determinant has increased; this should not happen: log(det) > log(previous_det) (-2.881293271881688 > -3.394552197706556). You may want to try with a higher value of support_fraction (current value: 0.516).\n",
      "  warnings.warn(\"Determinant has increased; this should not happen: \"\n",
      "/Users/omid/opt/anaconda3/lib/python3.8/site-packages/sklearn/covariance/_robust_covariance.py:166: RuntimeWarning: Determinant has increased; this should not happen: log(det) > log(previous_det) (-3.110403400217869 > -3.184421421518490). You may want to try with a higher value of support_fraction (current value: 0.516).\n",
      "  warnings.warn(\"Determinant has increased; this should not happen: \"\n",
      "/Users/omid/opt/anaconda3/lib/python3.8/site-packages/sklearn/covariance/_robust_covariance.py:166: RuntimeWarning: Determinant has increased; this should not happen: log(det) > log(previous_det) (-3.176752863460996 > -3.934147475247617). You may want to try with a higher value of support_fraction (current value: 0.516).\n",
      "  warnings.warn(\"Determinant has increased; this should not happen: \"\n",
      "/Users/omid/opt/anaconda3/lib/python3.8/site-packages/sklearn/covariance/_robust_covariance.py:166: RuntimeWarning: Determinant has increased; this should not happen: log(det) > log(previous_det) (-3.333492365615440 > -3.781648567389039). You may want to try with a higher value of support_fraction (current value: 0.516).\n",
      "  warnings.warn(\"Determinant has increased; this should not happen: \"\n",
      "/Users/omid/opt/anaconda3/lib/python3.8/site-packages/sklearn/covariance/_robust_covariance.py:166: RuntimeWarning: Determinant has increased; this should not happen: log(det) > log(previous_det) (-3.296421455441347 > -3.552657001493145). You may want to try with a higher value of support_fraction (current value: 0.516).\n",
      "  warnings.warn(\"Determinant has increased; this should not happen: \"\n",
      "/Users/omid/opt/anaconda3/lib/python3.8/site-packages/sklearn/covariance/_robust_covariance.py:166: RuntimeWarning: Determinant has increased; this should not happen: log(det) > log(previous_det) (-3.020430463260723 > -3.281226212848846). You may want to try with a higher value of support_fraction (current value: 0.516).\n",
      "  warnings.warn(\"Determinant has increased; this should not happen: \"\n",
      "/Users/omid/opt/anaconda3/lib/python3.8/site-packages/sklearn/covariance/_robust_covariance.py:166: RuntimeWarning: Determinant has increased; this should not happen: log(det) > log(previous_det) (-3.339020332275032 > -3.615665615955175). You may want to try with a higher value of support_fraction (current value: 0.516).\n",
      "  warnings.warn(\"Determinant has increased; this should not happen: \"\n",
      "/Users/omid/opt/anaconda3/lib/python3.8/site-packages/sklearn/covariance/_robust_covariance.py:166: RuntimeWarning: Determinant has increased; this should not happen: log(det) > log(previous_det) (-3.510635888070931 > -3.526799721507128). You may want to try with a higher value of support_fraction (current value: 0.516).\n",
      "  warnings.warn(\"Determinant has increased; this should not happen: \"\n",
      "/Users/omid/opt/anaconda3/lib/python3.8/site-packages/sklearn/covariance/_robust_covariance.py:166: RuntimeWarning: Determinant has increased; this should not happen: log(det) > log(previous_det) (-3.258075327015156 > -3.479348557309832). You may want to try with a higher value of support_fraction (current value: 0.516).\n",
      "  warnings.warn(\"Determinant has increased; this should not happen: \"\n",
      "/Users/omid/opt/anaconda3/lib/python3.8/site-packages/sklearn/covariance/_robust_covariance.py:166: RuntimeWarning: Determinant has increased; this should not happen: log(det) > log(previous_det) (-3.249446374624883 > -3.672450951822485). You may want to try with a higher value of support_fraction (current value: 0.516).\n",
      "  warnings.warn(\"Determinant has increased; this should not happen: \"\n",
      "/Users/omid/opt/anaconda3/lib/python3.8/site-packages/sklearn/covariance/_robust_covariance.py:166: RuntimeWarning: Determinant has increased; this should not happen: log(det) > log(previous_det) (-4.313865477176323 > -4.383560547110481). You may want to try with a higher value of support_fraction (current value: 0.516).\n",
      "  warnings.warn(\"Determinant has increased; this should not happen: \"\n",
      "/Users/omid/opt/anaconda3/lib/python3.8/site-packages/sklearn/covariance/_robust_covariance.py:166: RuntimeWarning: Determinant has increased; this should not happen: log(det) > log(previous_det) (-3.214528423938336 > -3.739142186188342). You may want to try with a higher value of support_fraction (current value: 0.516).\n",
      "  warnings.warn(\"Determinant has increased; this should not happen: \"\n",
      "/Users/omid/opt/anaconda3/lib/python3.8/site-packages/sklearn/covariance/_robust_covariance.py:166: RuntimeWarning: Determinant has increased; this should not happen: log(det) > log(previous_det) (-3.276078590589830 > -3.470515919665502). You may want to try with a higher value of support_fraction (current value: 0.516).\n",
      "  warnings.warn(\"Determinant has increased; this should not happen: \"\n",
      "/Users/omid/opt/anaconda3/lib/python3.8/site-packages/sklearn/covariance/_robust_covariance.py:166: RuntimeWarning: Determinant has increased; this should not happen: log(det) > log(previous_det) (-3.143175089310299 > -3.743346706427506). You may want to try with a higher value of support_fraction (current value: 0.516).\n",
      "  warnings.warn(\"Determinant has increased; this should not happen: \"\n",
      "/Users/omid/opt/anaconda3/lib/python3.8/site-packages/sklearn/covariance/_robust_covariance.py:166: RuntimeWarning: Determinant has increased; this should not happen: log(det) > log(previous_det) (-3.069175150236997 > -3.743704796132604). You may want to try with a higher value of support_fraction (current value: 0.516).\n",
      "  warnings.warn(\"Determinant has increased; this should not happen: \"\n"
     ]
    }
   ],
   "source": [
    "from sklearn.covariance import MinCovDet\n",
    "#Robust Mahalonibis Distance\n",
    "def robust_mahalanobis_method(df):\n",
    "    #Minimum covariance determinant\n",
    "    rng = np.random.RandomState(0)\n",
    "    real_cov = np.cov(df.values.T)\n",
    "    X = rng.multivariate_normal(mean=np.mean(df, axis=0), cov=real_cov, size=506)\n",
    "    cov = MinCovDet(random_state=0).fit(X)\n",
    "    mcd = cov.covariance_ #robust covariance metric\n",
    "    robust_mean = cov.location_  #robust mean\n",
    "    inv_covmat = sp.linalg.inv(mcd) #inverse covariance metric\n",
    "    \n",
    "    #Robust M-Distance\n",
    "    x_minus_mu = df - robust_mean\n",
    "    left_term = np.dot(x_minus_mu, inv_covmat)\n",
    "    mahal = np.dot(left_term, x_minus_mu.T)\n",
    "    md = np.sqrt(mahal.diagonal())\n",
    "    \n",
    "    #Flag as outlier\n",
    "    outlier = []\n",
    "    C = np.sqrt(chi2.ppf((1-0.001), df=df.shape[1]))#degrees of freedom = number of variables\n",
    "    for index, value in enumerate(md):\n",
    "        if value > C:\n",
    "            outlier.append(index)\n",
    "        else:\n",
    "            continue\n",
    "    return outlier, md\n",
    "\n",
    "outliers_mahal_rob, md_rb = robust_mahalanobis_method(df=df)"
   ]
  },
  {
   "cell_type": "code",
   "execution_count": null,
   "metadata": {},
   "outputs": [],
   "source": []
  }
 ],
 "metadata": {
  "kernelspec": {
   "display_name": "Python 3",
   "language": "python",
   "name": "python3"
  },
  "language_info": {
   "codemirror_mode": {
    "name": "ipython",
    "version": 3
   },
   "file_extension": ".py",
   "mimetype": "text/x-python",
   "name": "python",
   "nbconvert_exporter": "python",
   "pygments_lexer": "ipython3",
   "version": "3.8.5"
  }
 },
 "nbformat": 4,
 "nbformat_minor": 2
}
