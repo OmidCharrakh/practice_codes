{
 "cells": [
  {
   "cell_type": "markdown",
   "metadata": {},
   "source": [
    "\n",
    "<h1><center>Predicting Profitable Customer Groups</center></h1>\n",
    "<h3><center>Omid Charrakh</center></h3>"
   ]
  },
  {
   "cell_type": "markdown",
   "metadata": {},
   "source": [
    "<hr>\n",
    "\n",
    "<h1>Introduction</h1>\n",
    "\n",
    "\n",
    "In this dataset, we have 71 columns, including 70 features and one target variable. The target variable can be predicted from the 70 features via a classification method. Among the 70 features, 67 features are primary, and three features (i.e., g1_21, g2_21, and c_28) are secondary; each secondary feature can be approximated from its corresponding primary features by a regression method. Hence, to tackle the problem, we need to combine three regressions with one classification machine learning algorithm.\n",
    "\n",
    "In this notebook, after performing some preprocessing and visualization tasks, I will train and test four different classifiers (i.e., SVM, RF, XGB, and MLP) for the primary features. The hyperparameters of each classifier will be tuned by exploiting cross-validation techniques, their confusion matrices will be sketched, and their possibilities of becoming overfitting will be carefully analyzed. As will be argued, my tuned MLP model can be accepted as my best classifier. After choosing the tuned MLP classifier, I will then implement three multi-linear regressions corresponding to the three secondary features. The three predictions obtained from the said regressions will be plugged into our tuned MLP classifier so we can get the most optimal model for the dataset, called REG-MLP. The last section of the notebook will provide some suggestions for improving the future performance of our model.\n",
    "\n",
    "<hr>"
   ]
  },
  {
   "cell_type": "markdown",
   "metadata": {},
   "source": [
    "<h1>Table of contents</h1>\n",
    "\n",
    "<div class=\"alert alert-block alert-info\" style=\"margin-top: 20px\">\n",
    "    <ol> \n",
    "        <li><a href=\"#Preprocessing\">Preprocessing and Primary Visualizations</a></li>        \n",
    "        <li><a href=\"#Classifiers\">Building Optimized Models</a></li>\n",
    "            <ol>\n",
    "                <li><a href=\"#SVM\">Support Vector Machine (SVM)</a></li>\n",
    "                <li><a href=\"#RF\">Random Forest (RF)</a></li>\n",
    "                <li><a href=\"#RF\">X Gradient Boost (XGB)</a></li>\n",
    "                <li><a href=\"#MLP\">Multi Layer Perceptron (MLP)</a></li>\n",
    "                <li><a href=\"#REG\">Multi Linear Regression (REG)</a></li>\n",
    "            </ol>\n",
    "        <li><a href=\"#plus\">Regressions Plus the Classfication (REG-MLP)</a></li> \n",
    "        <li><a href=\"#API\">API</a></li>\n",
    "        <li><a href=\"#Results\">Final Results and Discussion</a></li>\n",
    "    </ol>\n",
    "</div>\n",
    "<br>\n"
   ]
  },
  {
   "cell_type": "markdown",
   "metadata": {},
   "source": [
    "<hr>\n",
    "<h1 id=\"Preprocessing\">Preprocessing and Primary Visualizations</h1>"
   ]
  },
  {
   "cell_type": "code",
   "execution_count": 1,
   "metadata": {},
   "outputs": [],
   "source": [
    "import itertools\n",
    "import numpy as np\n",
    "import pandas as pd\n",
    "import matplotlib.pyplot as plt\n",
    "from matplotlib.ticker import NullFormatter\n",
    "import matplotlib.ticker as ticker\n",
    "%matplotlib inline\n",
    "from sklearn import preprocessing\n",
    "from sklearn.preprocessing import PolynomialFeatures\n",
    "from sklearn.preprocessing import StandardScaler\n",
    "from sklearn import datasets\n",
    "from sklearn import metrics\n",
    "from sklearn.model_selection import train_test_split, cross_val_score, ShuffleSplit, learning_curve,GridSearchCV\n",
    "from sklearn.metrics import classification_report, confusion_matrix\n",
    "\n",
    "from sklearn.metrics import f1_score\n",
    "from sklearn.metrics import log_loss\n",
    "from sklearn.metrics import roc_auc_score\n",
    "from sklearn.metrics import classification_report, confusion_matrix\n",
    "from sklearn.ensemble import GradientBoostingClassifier\n",
    "from sklearn.ensemble import RandomForestClassifier\n",
    "from sklearn import svm, datasets\n",
    "from sklearn.linear_model import LinearRegression\n",
    "from sklearn.tree import DecisionTreeClassifier\n",
    "from sklearn.neural_network import MLPClassifier\n",
    "from sklearn import linear_model\n",
    "from sklearn import tree\n",
    "from sklearn import svm\n",
    "from sklearn.metrics import roc_curve, auc\n",
    "from sklearn.model_selection import train_test_split\n",
    "from sklearn.preprocessing import label_binarize\n",
    "from sklearn.multiclass import OneVsRestClassifier\n",
    "from scipy import interp\n",
    "from sklearn import metrics\n",
    "from sklearn.ensemble import RandomForestRegressor\n",
    "from sklearn.model_selection import RandomizedSearchCV, GridSearchCV\n",
    "from sklearn.metrics import roc_auc_score\n",
    "from sklearn.model_selection import StratifiedKFold\n",
    "from scipy.stats import randint as sp_randint\n",
    "from itertools import cycle\n",
    "import collections\n",
    "from collections import OrderedDict\n",
    "from statistics import mean \n",
    "from operator import itemgetter\n",
    "import operator\n",
    "import seaborn as sns\n",
    "from sklearn.decomposition import PCA\n",
    "import warnings\n",
    "warnings.filterwarnings('ignore')\n",
    "import numpy as np\n",
    "import pandas as pd\n",
    "from datetime import datetime\n",
    "\n",
    "from pprint import pprint"
   ]
  },
  {
   "cell_type": "code",
   "execution_count": 2,
   "metadata": {},
   "outputs": [
    {
     "data": {
      "text/plain": [
       "(6620, 71)"
      ]
     },
     "execution_count": 2,
     "metadata": {},
     "output_type": "execute_result"
    }
   ],
   "source": [
    "df = pd.read_csv('../data/customerGroups.csv')\n",
    "df.head()\n",
    "df.shape"
   ]
  },
  {
   "cell_type": "code",
   "execution_count": 3,
   "metadata": {},
   "outputs": [
    {
     "data": {
      "text/plain": [
       "1    0.464653\n",
       "2    0.283535\n",
       "0    0.251813\n",
       "Name: target, dtype: float64"
      ]
     },
     "execution_count": 3,
     "metadata": {},
     "output_type": "execute_result"
    }
   ],
   "source": [
    "df['target'].value_counts(normalize=True)"
   ]
  },
  {
   "cell_type": "code",
   "execution_count": 9,
   "metadata": {
    "scrolled": true
   },
   "outputs": [
    {
     "name": "stdout",
     "output_type": "stream",
     "text": [
      "Hence, 46.47% and 28.35% of campaigns led to group 1 and group 2 being the most profitable, respectively.\n",
      "Nevertheless, 25.18% of the campaigns were completely unsuccessful.\n"
     ]
    }
   ],
   "source": [
    "x_1,x_2,x_0=list(df['target'].value_counts())\n",
    "\n",
    "p_1=100*x_1/(x_1+x_2+x_0)\n",
    "\n",
    "p_2=100*x_2/(x_1+x_2+x_0)\n",
    "\n",
    "p_3=100*x_0/(x_1+x_2+x_0)\n",
    "\n",
    "print('Hence, %.2f%% and %.2f%% of campaigns led to group 1 and group 2 being the most profitable, respectively.\\nNevertheless, %.2f%% of the campaigns were completely unsuccessful.' % (p_1, p_2, p_3))"
   ]
  },
  {
   "cell_type": "markdown",
   "metadata": {},
   "source": [
    "# __Remark:__\n",
    "\n",
    "The above calculation reveals that our dataset is __balanced__ and we no longer need to be worried about this issue. \n",
    "\n",
    "In the next cell, we will extract the 67 primary features of the dataset (i.e., all features except g1_21, g2_21, and c_28) and will call them as __feature_base__. For the moment, we will only focus on these features. We will also __normalize__ these features (i.e., zero mean and unit variance) and will split them into __train 80%, test 20%__."
   ]
  },
  {
   "cell_type": "code",
   "execution_count": 4,
   "metadata": {},
   "outputs": [],
   "source": [
    "# Separating out all the features\n",
    "\n",
    "features_all = ['g1_1', 'g1_2', 'g1_3', 'g1_4', 'g1_5', 'g1_6', 'g1_7', 'g1_8', 'g1_9',\n",
    "       'g1_10', 'g1_11', 'g1_12', 'g1_13', 'g1_14', 'g1_15', 'g1_16', 'g1_17',\n",
    "       'g1_18', 'g1_19', 'g1_20', 'g1_21', 'g2_1', 'g2_2', 'g2_3', 'g2_4',\n",
    "       'g2_5', 'g2_6', 'g2_7', 'g2_8', 'g2_9', 'g2_10', 'g2_11', 'g2_12',\n",
    "       'g2_13', 'g2_14', 'g2_15', 'g2_16', 'g2_17', 'g2_18', 'g2_19', 'g2_20',\n",
    "       'g2_21', 'c_1', 'c_2', 'c_3', 'c_4', 'c_5', 'c_6', 'c_7', 'c_8', 'c_9',\n",
    "       'c_10', 'c_11', 'c_12', 'c_13', 'c_14', 'c_15', 'c_16', 'c_17', 'c_18',\n",
    "       'c_19', 'c_20', 'c_21', 'c_22', 'c_23', 'c_24', 'c_25', 'c_26', 'c_27',\n",
    "       'c_28']\n",
    "\n",
    "#Considering features that merely include the base columns (i.e., in this step, we don't care about g1_21, g2_21 and c_28)\n",
    "\n",
    "features_base = ['g1_1', 'g1_2', 'g1_3', 'g1_4', 'g1_5', 'g1_6', 'g1_7', 'g1_8', 'g1_9',\n",
    "       'g1_10', 'g1_11', 'g1_12', 'g1_13', 'g1_14', 'g1_15', 'g1_16', 'g1_17',\n",
    "       'g1_18', 'g1_19', 'g1_20', 'g2_1', 'g2_2', 'g2_3', 'g2_4',\n",
    "       'g2_5', 'g2_6', 'g2_7', 'g2_8', 'g2_9', 'g2_10', 'g2_11', 'g2_12',\n",
    "       'g2_13', 'g2_14', 'g2_15', 'g2_16', 'g2_17', 'g2_18', 'g2_19', 'g2_20',\n",
    "       'c_1', 'c_2', 'c_3', 'c_4', 'c_5', 'c_6', 'c_7', 'c_8', 'c_9',\n",
    "       'c_10', 'c_11', 'c_12', 'c_13', 'c_14', 'c_15', 'c_16', 'c_17', 'c_18',\n",
    "       'c_19', 'c_20', 'c_21', 'c_22', 'c_23', 'c_24', 'c_25', 'c_26', 'c_27']\n",
    "\n",
    "\n",
    "#Later, we will use the denormalized features for our Random Forest Classifier \n",
    "X_denorm=df.loc[:, features_all].values\n",
    "\n",
    "# Standardization of the features\n",
    "X = StandardScaler().fit_transform(X_denorm)\n",
    "\n",
    "# Separating out the target\n",
    "y = np.ravel(df.loc[:,['target']].values)\n",
    "\n",
    "#train-test split \n",
    "X_train, X_test, y_train, y_test = train_test_split( X, y, test_size=0.2, random_state=42)\n",
    "\n",
    "x=np.hstack((X[:,0:20], X[:,21:41], X[:,42:69]))\n",
    "\n",
    "x_train=np.hstack((X_train[:,0:20], X_train[:,21:41], X_train[:,42:69]))\n",
    "\n",
    "x_test=np.hstack((X_test[:,0:20], X_test[:,21:41], X_test[:,42:69]))\n"
   ]
  },
  {
   "cell_type": "markdown",
   "metadata": {},
   "source": [
    "# __PCA Visualization:__\n",
    "\n",
    " \n",
    "Two essential questions to be answered are as follows: \n",
    "\n",
    "- 1) Can we expect the variables to be __linearly separable__?\n",
    "\n",
    "- 2) Does adding the (three) secondary columns help?\n",
    "\n",
    "\n",
    "__Principal component analysis (PCA)__ can help us to answer the above questions. As will be shown in the next cell, the answer to both questions is negative, implying that even if we consider all the (primary and secondary) features, we need to exploit a non-linear model for our classification task."
   ]
  },
  {
   "cell_type": "code",
   "execution_count": 20,
   "metadata": {},
   "outputs": [
    {
     "data": {
      "text/html": [
       "<div>\n",
       "<style scoped>\n",
       "    .dataframe tbody tr th:only-of-type {\n",
       "        vertical-align: middle;\n",
       "    }\n",
       "\n",
       "    .dataframe tbody tr th {\n",
       "        vertical-align: top;\n",
       "    }\n",
       "\n",
       "    .dataframe thead th {\n",
       "        text-align: right;\n",
       "    }\n",
       "</style>\n",
       "<table border=\"1\" class=\"dataframe\">\n",
       "  <thead>\n",
       "    <tr style=\"text-align: right;\">\n",
       "      <th></th>\n",
       "      <th>principal component 1</th>\n",
       "      <th>principal component 2</th>\n",
       "      <th>target</th>\n",
       "    </tr>\n",
       "  </thead>\n",
       "  <tbody>\n",
       "    <tr>\n",
       "      <th>0</th>\n",
       "      <td>-2.459037</td>\n",
       "      <td>-3.329807</td>\n",
       "      <td>2</td>\n",
       "    </tr>\n",
       "    <tr>\n",
       "      <th>1</th>\n",
       "      <td>-0.551571</td>\n",
       "      <td>3.823804</td>\n",
       "      <td>1</td>\n",
       "    </tr>\n",
       "    <tr>\n",
       "      <th>2</th>\n",
       "      <td>-8.107830</td>\n",
       "      <td>2.019203</td>\n",
       "      <td>2</td>\n",
       "    </tr>\n",
       "    <tr>\n",
       "      <th>3</th>\n",
       "      <td>0.428156</td>\n",
       "      <td>-4.323988</td>\n",
       "      <td>0</td>\n",
       "    </tr>\n",
       "    <tr>\n",
       "      <th>4</th>\n",
       "      <td>-1.477034</td>\n",
       "      <td>5.148091</td>\n",
       "      <td>2</td>\n",
       "    </tr>\n",
       "    <tr>\n",
       "      <th>...</th>\n",
       "      <td>...</td>\n",
       "      <td>...</td>\n",
       "      <td>...</td>\n",
       "    </tr>\n",
       "    <tr>\n",
       "      <th>6615</th>\n",
       "      <td>1.233331</td>\n",
       "      <td>-2.307510</td>\n",
       "      <td>1</td>\n",
       "    </tr>\n",
       "    <tr>\n",
       "      <th>6616</th>\n",
       "      <td>3.313511</td>\n",
       "      <td>-1.275053</td>\n",
       "      <td>0</td>\n",
       "    </tr>\n",
       "    <tr>\n",
       "      <th>6617</th>\n",
       "      <td>-1.313978</td>\n",
       "      <td>-1.704331</td>\n",
       "      <td>1</td>\n",
       "    </tr>\n",
       "    <tr>\n",
       "      <th>6618</th>\n",
       "      <td>0.417239</td>\n",
       "      <td>-4.372111</td>\n",
       "      <td>1</td>\n",
       "    </tr>\n",
       "    <tr>\n",
       "      <th>6619</th>\n",
       "      <td>4.295297</td>\n",
       "      <td>7.536853</td>\n",
       "      <td>0</td>\n",
       "    </tr>\n",
       "  </tbody>\n",
       "</table>\n",
       "<p>6620 rows × 3 columns</p>\n",
       "</div>"
      ],
      "text/plain": [
       "      principal component 1  principal component 2  target\n",
       "0                 -2.459037              -3.329807       2\n",
       "1                 -0.551571               3.823804       1\n",
       "2                 -8.107830               2.019203       2\n",
       "3                  0.428156              -4.323988       0\n",
       "4                 -1.477034               5.148091       2\n",
       "...                     ...                    ...     ...\n",
       "6615               1.233331              -2.307510       1\n",
       "6616               3.313511              -1.275053       0\n",
       "6617              -1.313978              -1.704331       1\n",
       "6618               0.417239              -4.372111       1\n",
       "6619               4.295297               7.536853       0\n",
       "\n",
       "[6620 rows x 3 columns]"
      ]
     },
     "execution_count": 20,
     "metadata": {},
     "output_type": "execute_result"
    }
   ],
   "source": [
    "pca = PCA(n_components=2)\n",
    "\n",
    "principalComponents = pca.fit_transform(x)\n",
    "\n",
    "principalDf = pd.DataFrame(data = principalComponents, columns = ['principal component 1', 'principal component 2'])\n",
    "\n",
    "finalDf = pd.concat([principalDf, df[['target']]], axis = 1)\n",
    "\n",
    "finalDf"
   ]
  },
  {
   "cell_type": "code",
   "execution_count": 13,
   "metadata": {},
   "outputs": [
    {
     "data": {
      "image/png": "[encoded data removed]",
      "text/plain": [
       "<Figure size 576x576 with 1 Axes>"
      ]
     },
     "metadata": {
      "needs_background": "light"
     },
     "output_type": "display_data"
    },
    {
     "data": {
      "image/png": "[encoded data removed]",
      "text/plain": [
       "<Figure size 576x576 with 1 Axes>"
      ]
     },
     "metadata": {
      "needs_background": "light"
     },
     "output_type": "display_data"
    }
   ],
   "source": [
    "#Evaluating the linear independence of our primary variables via PCA analysis:\n",
    "\n",
    "pca = PCA(n_components=2)\n",
    "\n",
    "principalComponents = pca.fit_transform(x)\n",
    "\n",
    "principalDf = pd.DataFrame(data = principalComponents, columns = ['principal component 1', 'principal component 2'])\n",
    "\n",
    "finalDf = pd.concat([principalDf, df[['target']]], axis = 1)\n",
    "\n",
    "fig = plt.figure(figsize = (8,8))\n",
    "\n",
    "ax = fig.add_subplot(1,1,1) \n",
    "ax.set_xlabel('Principal Component 1', fontsize = 15)\n",
    "ax.set_ylabel('Principal Component 2', fontsize = 15)\n",
    "ax.set_title('PCA using only the base features', fontsize = 20)\n",
    "\n",
    "targets = [0, 1, 2]\n",
    "colors = ['r', 'g', 'b']\n",
    "\n",
    "for target, color in zip(targets,colors):\n",
    "    indicesToKeep = finalDf['target'] == target\n",
    "    ax.scatter(finalDf.loc[indicesToKeep, 'principal component 1']\n",
    "               , finalDf.loc[indicesToKeep, 'principal component 2']\n",
    "               , c = color\n",
    "               , s = 50)\n",
    "ax.legend(targets)\n",
    "ax.grid()\n",
    "\n",
    "\n",
    "#Evaluating the role of the (three) secondary features in our PCA analysis: \n",
    "\n",
    "principalComponents = pca.fit_transform(X)\n",
    "principalDf = pd.DataFrame(data = principalComponents, columns = ['principal component 1', 'principal component 2'])\n",
    "finalDf = pd.concat([principalDf, df[['target']]], axis = 1)\n",
    "\n",
    "\n",
    "fig = plt.figure(figsize = (8,8))\n",
    "\n",
    "ax = fig.add_subplot(1,1,1) \n",
    "ax.set_xlabel('Principal Component 1', fontsize = 15)\n",
    "ax.set_ylabel('Principal Component 2', fontsize = 15)\n",
    "ax.set_title('PCA using all features', fontsize = 20)\n",
    "\n",
    "targets = [0, 1, 2]\n",
    "colors = ['r', 'g', 'b']\n",
    "\n",
    "for target, color in zip(targets,colors):\n",
    "    indicesToKeep = finalDf['target'] == target\n",
    "    ax.scatter(finalDf.loc[indicesToKeep, 'principal component 1']\n",
    "               , finalDf.loc[indicesToKeep, 'principal component 2']\n",
    "               , c = color\n",
    "               , s = 50)\n",
    "ax.legend(targets)\n",
    "ax.grid()\n",
    "\n",
    "\n"
   ]
  },
  {
   "cell_type": "markdown",
   "metadata": {},
   "source": [
    "# __Remark:__\n",
    "\n",
    "Adding the three secondary features did not improve the linear independence of our data. To understand the reason why this happens, it is useful to check the __correlation coefficients__ of each feature with the target variable. The next cell will compute the said coefficients. \n",
    "\n",
    "\n",
    "Importantly, although the situation for c_28 is a bit better, the other two features (i.e., g1_21 and g2_21) are not highly correlated with the target variable. This fact explains the reason why adding the secondary features to our PCA analysis did not significantly improve our results.\n"
   ]
  },
  {
   "cell_type": "code",
   "execution_count": null,
   "metadata": {},
   "outputs": [],
   "source": [
    "corr_matrix = df.corr()\n",
    "\n",
    "Correlation_coeffients= dict(abs(corr_matrix['target'][0:70]).sort_values(ascending=False)).keys()\n",
    "\n",
    "print (list(Correlation_coeffients))\n",
    "\n",
    "\n",
    "# g1_1, c_2, c_12 , c_19, c_20, c_8, c_21, c_26, c_25, and g2_12 are the most correlated features with the target variable."
   ]
  },
  {
   "cell_type": "markdown",
   "metadata": {},
   "source": [
    "<hr>\n",
    "\n",
    "<h1 id=\"Classifiers\">Building Classifier</h1>\n",
    "\n",
    "This section will firstly implement three __baseline classifiers__ (i.e., __SVM, RF, XGB__) using only primary features. For each of the mentioned classifiers, the following tasks will be performed.\n",
    "\n",
    "- 1) Measure the __performance__ (confusion matrix, F-score, precision-recall)\n",
    "\n",
    "- 2) Check the possibility of __overfitting__ \n",
    "\n",
    "- 3) Use cross validation to __tune the hyperparameters__\n",
    "\n",
    "\n",
    "I will then continue by implementing a __fancier classifier__ (i.e., __2-3 layer feed-forward network MLP__) and will perform the above tasks for it."
   ]
  },
  {
   "cell_type": "code",
   "execution_count": 25,
   "metadata": {},
   "outputs": [
    {
     "data": {
      "text/plain": [
       "(1324,)"
      ]
     },
     "execution_count": 25,
     "metadata": {},
     "output_type": "execute_result"
    }
   ],
   "source": [
    "yhat_base_svm.shape"
   ]
  },
  {
   "cell_type": "markdown",
   "metadata": {},
   "source": [
    "<hr>\n",
    "<h3 id=\"SVM\">Support Vector Machine (SVM)</h3>\n",
    "\n"
   ]
  },
  {
   "cell_type": "code",
   "execution_count": 23,
   "metadata": {},
   "outputs": [
    {
     "name": "stdout",
     "output_type": "stream",
     "text": [
      "Training accuracy for SVM when it cosiders merely the base features: 0.620\n",
      "Test accuracy for SVM when it cosiders merely the base features: 0.579\n"
     ]
    }
   ],
   "source": [
    "#Applying SVM to the base features\n",
    "\n",
    "base_svm = svm.SVC()\n",
    "base_svm.fit(x_train, y_train)\n",
    "yhat_base_svm = base_svm.predict(x_test)\n",
    "\n",
    "print(\"Training accuracy for SVM when it cosiders merely the base features: {0:.3f}\".format(base_svm.score(x_train, y_train)))\n",
    "print(\"Test accuracy for SVM when it cosiders merely the base features: {0:.3f}\".format(base_svm.score(x_test, y_test)))"
   ]
  },
  {
   "cell_type": "code",
   "execution_count": 1,
   "metadata": {
    "scrolled": true
   },
   "outputs": [
    {
     "ename": "NameError",
     "evalue": "name 'svm' is not defined",
     "output_type": "error",
     "traceback": [
      "\u001b[0;31m---------------------------------------------------------------------------\u001b[0m",
      "\u001b[0;31mNameError\u001b[0m                                 Traceback (most recent call last)",
      "\u001b[0;32m<ipython-input-1-27d6637410d4>\u001b[0m in \u001b[0;36m<module>\u001b[0;34m\u001b[0m\n\u001b[1;32m      4\u001b[0m \u001b[0;34m\u001b[0m\u001b[0m\n\u001b[1;32m      5\u001b[0m \u001b[0;34m\u001b[0m\u001b[0m\n\u001b[0;32m----> 6\u001b[0;31m \u001b[0msvc\u001b[0m \u001b[0;34m=\u001b[0m \u001b[0msvm\u001b[0m\u001b[0;34m.\u001b[0m\u001b[0mSVC\u001b[0m\u001b[0;34m(\u001b[0m\u001b[0;34m)\u001b[0m\u001b[0;34m\u001b[0m\u001b[0;34m\u001b[0m\u001b[0m\n\u001b[0m\u001b[1;32m      7\u001b[0m \u001b[0;34m\u001b[0m\u001b[0m\n\u001b[1;32m      8\u001b[0m \u001b[0;31m# Create a classifier object with the classifier and parameter candidates\u001b[0m\u001b[0;34m\u001b[0m\u001b[0;34m\u001b[0m\u001b[0;34m\u001b[0m\u001b[0m\n",
      "\u001b[0;31mNameError\u001b[0m: name 'svm' is not defined"
     ]
    }
   ],
   "source": [
    "#Hyperparameter Optimization of the base SVM \n",
    "\n",
    "parameter_space_svm = [{'C': [1, 10, 100, 500, 1000], 'gamma': [.01, 0.001, 0.0001, 'scale'], 'kernel': ['rbf'], 'class_weight':['balanced', None]}]\n",
    "\n",
    "    \n",
    "svc = svm.SVC()\n",
    "\n",
    "# Create a classifier object with the classifier and parameter candidates\n",
    "gs_svm = GridSearchCV(estimator=svc,param_grid=parameter_space_svm, n_jobs=-1)\n",
    "\n",
    "# Train the classifier on data's features and target data\n",
    "gs_svm.fit(x_train, y_train)\n",
    "\n",
    "\n",
    "print('Best score for training data:', gs_svm.best_score_)\n",
    "print('Best parameters found:\\n', gs_svm.best_params_)"
   ]
  },
  {
   "cell_type": "code",
   "execution_count": null,
   "metadata": {
    "scrolled": true
   },
   "outputs": [],
   "source": [
    "#Hence the best hyperparameters for our SVM would be as follows: \n",
    "tuned_svm = svm.SVC(kernel='rbf', C=100, gamma=0.0001, class_weight=None)\n",
    "\n",
    "\n",
    "#Let us train our tuned SVM and compute its corresponding accuracy scores\n",
    "tuned_svm.fit(x_train, y_train)\n",
    "yhat_tuned_svm = tuned_svm.predict(x_test)\n",
    "\n",
    "\n",
    "print(\"Training accuracy for the tuned SVM: {0:.3f}\".format(tuned_svm.score(x_train, y_train)))\n",
    "print(\"Test accuracy for the tuned  SVM: {0:.3f}\".format(tuned_svm.score(x_test, y_test)))"
   ]
  },
  {
   "cell_type": "code",
   "execution_count": null,
   "metadata": {},
   "outputs": [],
   "source": [
    "# A function for ploting the confusion matrix of each model. \n",
    "\n",
    "def plot_confusion_matrix(cm, classes,\n",
    "                          normalize=False,\n",
    "                          title='Confusion matrix',\n",
    "                          cmap=plt.cm.Blues):\n",
    "    if normalize:\n",
    "        cm = cm.astype('float') / cm.sum(axis=1)[:, np.newaxis]\n",
    "        print(\"Normalized confusion matrix\")\n",
    "    else:\n",
    "        print('Confusion matrix, without normalization')\n",
    "\n",
    "    print(cm)\n",
    "    plt.figure(figsize=(8, 8))\n",
    "\n",
    "    plt.imshow(cm, interpolation='nearest', cmap=cmap)\n",
    "    plt.title(title)\n",
    "    plt.colorbar()\n",
    "    tick_marks = np.arange(len(classes))\n",
    "    plt.xticks(tick_marks, classes, rotation=45)\n",
    "    plt.yticks(tick_marks, classes)\n",
    "    fmt = '.2f' if normalize else 'd'\n",
    "    thresh = cm.max() / 2.\n",
    "    for i, j in itertools.product(range(cm.shape[0]), range(cm.shape[1])):\n",
    "        plt.text(j, i, format(cm[i, j], fmt),\n",
    "                 horizontalalignment=\"center\",\n",
    "                 color=\"white\" if cm[i, j] > thresh else \"black\")\n",
    "\n",
    "    plt.tight_layout()\n",
    "    plt.ylabel('True label')\n",
    "    plt.xlabel('Predicted label')"
   ]
  },
  {
   "cell_type": "code",
   "execution_count": null,
   "metadata": {},
   "outputs": [],
   "source": [
    "# Compute confusion matrix for the tuned SVM\n",
    "tuned_svm_matrix = confusion_matrix(y_test, yhat_tuned_svm, labels=[1,2,0])\n",
    "np.set_printoptions(precision=2)\n",
    "\n",
    "\n",
    "print (classification_report(y_test, yhat_tuned_svm))\n",
    "\n",
    "# Plot normalized confusion matrix\n",
    "plt.figure()\n",
    "plot_confusion_matrix(tuned_svm_matrix, classes=['First (1)','Second (2)', 'None (0)'], normalize= True,  title='Normalized confusion matrix\\n (Tuned SVM)')\n"
   ]
  },
  {
   "cell_type": "markdown",
   "metadata": {},
   "source": [
    "<hr>\n",
    "\n",
    "<h3 id=\"RF\">Random Forest (RF)</h3>\n",
    "\n",
    "\n",
    "It is a well-known fact that Random Forest algorithms are not sensitive to denormalized datasets. Even, sometimes it is recommended to train and test RG models with denormalized data. Hence, in this part, we will use denormalized variables."
   ]
  },
  {
   "cell_type": "code",
   "execution_count": null,
   "metadata": {
    "scrolled": true
   },
   "outputs": [],
   "source": [
    "#Train-test split of the denormalized dataset \n",
    "X_train_denorm, X_test_denorm, y_train_denorm, y_test_denorm = train_test_split( X_denorm, y, test_size=0.2, random_state=42)\n",
    "x_denorm=np.hstack((X_denorm[:,0:20], X_denorm[:,21:41], X_denorm[:,42:69]))\n",
    "x_train_denorm=np.hstack((X_train_denorm[:,0:20], X_train_denorm[:,21:41], X_train_denorm[:,42:69]))\n",
    "x_test_denorm=np.hstack((X_test_denorm[:,0:20], X_test_denorm[:,21:41], X_test_denorm[:,42:69]))\n",
    "\n",
    "\n",
    "#Create a Gaussian Classifier for the base features\n",
    "#To avoid overfitting, I changed the default parameters of the classifier\n",
    "base_rf=RandomForestClassifier(n_estimators=150, max_features=14, min_samples_leaf=14, max_depth=150)\n",
    "base_rf.fit(x_train_denorm,y_train_denorm)\n",
    "yhat_base_rf=base_rf.predict(x_test_denorm)\n",
    "\n",
    "\n",
    "print(\"Training Accuracy for the basic RF: {0:.3f}\".format(base_rf.score(x_train_denorm, y_train_denorm)))\n",
    "print(\"Test Accuracy for the basic RF: {0:.3f}\".format(base_rf.score(x_test_denorm, y_test_denorm)))"
   ]
  },
  {
   "cell_type": "code",
   "execution_count": null,
   "metadata": {},
   "outputs": [],
   "source": [
    "#Hyperparameter Optimization of the base RF\n",
    "\n",
    "\n",
    "# Let us print the parameters used by our current forest\n",
    "rf = RandomForestRegressor(random_state = 42)\n",
    "print('Parameters currently in use:\\n')\n",
    "pprint(rf.get_params())\n",
    "\n",
    "\n",
    "#Specify the random grid\n",
    "n_estimators = [int(x) for x in np.linspace(1, 500, num = 50)]\n",
    "max_features = [10, 14, 20]\n",
    "max_depth = [int(x) for x in np.linspace(10, 500, num = 50)]\n",
    "max_depth.append(None)\n",
    "min_samples_leaf = [2, 4, 10, 14, 20]\n",
    "bootstrap = [True, False]\n",
    "\n",
    "random_grid = {'n_estimators': n_estimators,\n",
    "               'max_features': max_features,\n",
    "               'max_depth': max_depth,\n",
    "               #'min_samples_split': min_samples_split,\n",
    "               'min_samples_leaf': min_samples_leaf,\n",
    "               'bootstrap': bootstrap}\n",
    "\n",
    "\n",
    "rf_random = RandomizedSearchCV(estimator = rf, param_distributions = random_grid, n_iter = 10, cv = 3, verbose=2, n_jobs = -1)\n",
    "rf_random.fit(x_train_denorm,y_train_denorm)\n",
    "              \n",
    "\n",
    "print('Best parameters found:\\n', rf_random.best_params_)"
   ]
  },
  {
   "cell_type": "code",
   "execution_count": null,
   "metadata": {},
   "outputs": [],
   "source": [
    "#Hence our best tuned RF would be as follows: \n",
    "tuned_rf=RandomForestClassifier(n_estimators=225, min_samples_split=2, min_samples_leaf=20, max_features=14, max_depth=160, bootstrap=False)\n",
    "\n",
    "\n",
    "#Let us train our tuned SVM and compute its corresponding accuracy scores\n",
    "tuned_rf.fit(x_train_denorm,y_train_denorm)\n",
    "yhat_tuned_rf=tuned_rf.predict(x_test_denorm)\n",
    "\n",
    "print(\"Training accuracy for the tuned RF: {0:.3f}\".format(tuned_rf.score(x_train_denorm, y_train_denorm)))\n",
    "print(\"Test accuracy for the tuned RF: {0:.3f}\".format(tuned_rf.score(x_test_denorm, y_test_denorm)))"
   ]
  },
  {
   "cell_type": "code",
   "execution_count": null,
   "metadata": {},
   "outputs": [],
   "source": [
    "# Compute confusion matrix for the tuned RF\n",
    "tuned_rf_matrix = confusion_matrix(y_test_denorm, yhat_tuned_rf, labels=[1,2,0])\n",
    "np.set_printoptions(precision=2)\n",
    "\n",
    "print (classification_report(y_test_denorm, yhat_tuned_rf))\n",
    "\n",
    "# Plot normalized confusion matrix\n",
    "plt.figure()\n",
    "plot_confusion_matrix(tuned_rf_matrix, classes=['First (1)','Second (2)', 'None (0)'],normalize= True,  title='Normalized confusion matrix\\n (Tuned RF)')"
   ]
  },
  {
   "cell_type": "code",
   "execution_count": null,
   "metadata": {},
   "outputs": [],
   "source": [
    "feature_imp = pd.Series(tuned_rf.feature_importances_,index=features_base).sort_values(ascending=False)\n",
    "\n",
    "\n",
    "# Creating a bar plot\n",
    "\n",
    "plt.figure(figsize=(10,20))\n",
    "sns.barplot(feature_imp, feature_imp.index)\n",
    "\n",
    "plt.xlabel('Feature Importance Score')\n",
    "plt.ylabel('Features')\n",
    "plt.title(\"Visualizing Important Features\")\n",
    "plt.show()\n",
    "\n",
    "\n",
    "#Hence, some of the most important features for the RF classifier:'c_2', 'g1_1', 'g2_1', 'c_4', 'c_20', 'c_9', 'c_25', 'c_26', 'c_1'\n"
   ]
  },
  {
   "cell_type": "markdown",
   "metadata": {},
   "source": [
    "<hr>\n",
    "<h3 id=\"MLP\">XGradient Boost (XGB)</h3>"
   ]
  },
  {
   "cell_type": "code",
   "execution_count": null,
   "metadata": {},
   "outputs": [],
   "source": [
    "#Tunning the hyperparameters of a XGB algorithm for the base features\n",
    "\n",
    "params = {\n",
    "        'min_child_weight': [1, 5, 10],\n",
    "        'gamma': [0.5, 1, 2, 5, 8],\n",
    "        'subsample': [0.6, 0.8, 1.0],\n",
    "        'colsample_bytree': [.2, 0.6],\n",
    "        'max_depth': [3, 5, 10],\n",
    "        'n_estimators' : [int(x) for x in np.linspace(1, 800, num = 50)]\n",
    "        }\n",
    "\n",
    "\n",
    "xgb = XGBClassifier(learning_rate=0.1,objective='reg:logistic', silent=True, nthread=1)\n",
    "random_search = RandomizedSearchCV(xgb, param_distributions=params, scoring='accuracy', n_iter=15, n_jobs= -1, cv=3, verbose=3, random_state=42 )\n",
    "random_search.fit(x_train, y_train)\n",
    "\n",
    "\n",
    "print('\\n Best hyperparameters:')\n",
    "print(random_search.best_params_)"
   ]
  },
  {
   "cell_type": "code",
   "execution_count": null,
   "metadata": {},
   "outputs": [],
   "source": [
    "#Hence our best tuned XGB would be as follows: \n",
    "tuned_xgb = XGBClassifier(n_estimators=620, learning_rate=0.038, min_child_weight=10, gamma=8, max_depth=5, colsample_bytree=.2, subsample=.8)\n",
    "\n",
    "\n",
    "#Let us train our tuned XGB and compute its corresponding accuracy scores\n",
    "tuned_xgb.fit(x_train, y_train)\n",
    "yhat_tuned_xgb=tuned_rf.predict(x_test)\n",
    "\n",
    "\n",
    "print(\"Training accuracy for the tuned XGB: {0:.3f}\".format(tuned_xgb.score(x_train, y_train)))\n",
    "print(\"Test accuracy for the tuned XGB: {0:.3f}\".format(tuned_xgb.score(x_test, y_test)))\n",
    "\n",
    "# Compute confusion matrix for the tuned XGB\n",
    "tuned_xgb_matrix = confusion_matrix(y_test, yhat_tuned_xgb, labels=[1,2,0])\n",
    "np.set_printoptions(precision=2)\n",
    "\n",
    "print (classification_report(y_test, yhat_tuned_xgb))\n",
    "\n",
    "# Plot normalized confusion matrix\n",
    "plt.figure()\n",
    "plot_confusion_matrix(tuned_xgb_matrix, classes=['First (1)','Second (2)', 'None (0)'],normalize= True,  title='Normalized confusion matrix\\n (Tuned XGB)')"
   ]
  },
  {
   "cell_type": "markdown",
   "metadata": {},
   "source": [
    "<hr>\n",
    "<h3 id=\"MLP\">Multi-layer Perceptron (MLP)</h3>"
   ]
  },
  {
   "cell_type": "code",
   "execution_count": null,
   "metadata": {},
   "outputs": [],
   "source": [
    "#Basic MLP: a fancier classifier (2-3 layer feed-forward network MLP) for the base features\n",
    "\n",
    "base_mlp = MLPClassifier(solver='lbfgs', alpha=1e-5, hidden_layer_sizes=(10, 20), max_iter=300, activation = 'relu',random_state=42)\n",
    "\n",
    "\n",
    "base_mlp.fit(x_train, y_train)\n",
    "yhat_base_mlp = base_mlp.predict(x_test)\n",
    "\n",
    "print(\"Training accuracy for the basic MLP: {0:.3f}\".format(base_mlp.score(x_train, y_train)))\n",
    "print(\" Test accuracy for the basic MLP: {0:.3f}\".format(base_mlp.score(x_test, y_test)))"
   ]
  },
  {
   "cell_type": "code",
   "execution_count": null,
   "metadata": {},
   "outputs": [],
   "source": [
    "#Hyperparameter Optimization of the base MLP\n",
    "\n",
    "parameter_space_mlp = {'solver': ['lbfgs'], 'max_iter': [100, 200, 300], 'alpha': [1e-5, 1e-3], 'hidden_layer_sizes': [(100,),(10, 20), (9,6,3)],'learning_rate': ['adaptive', 'constant']}\n",
    "\n",
    "mlp= MLPClassifier()\n",
    "gs_mlp = GridSearchCV(mlp, parameter_space_mlp, cv = 3, n_jobs=-1)\n",
    "gs_mlp.fit(x_train, y_train)\n",
    "\n",
    "\n",
    "print('Best score for training data:', gs_mlp.best_score_)\n",
    "print('Best parameters found:\\n', gs_mlp.best_params_)"
   ]
  },
  {
   "cell_type": "code",
   "execution_count": null,
   "metadata": {},
   "outputs": [],
   "source": [
    "#Hence the best tuned MLP would be as follows: \n",
    "\n",
    "tuned_mlp=MLPClassifier(solver='lbfgs', alpha=1e-3, hidden_layer_sizes=(9, 6, 3), max_iter=100, learning_rate='constant')\n",
    "\n",
    "#Now, we train such a tuned MLP and then compute its corresponding accuracy scores\n",
    "tuned_mlp.fit(x_train, y_train)\n",
    "yhat_tuned_mlp = tuned_mlp.predict(x_test)\n",
    "\n",
    "print(\"Training accuracy for the tuned MLP: {0:.3f}\".format(base_mlp.score(x_train, y_train)))\n",
    "print(\" Test accuracy for the tuned MLP: {0:.3f}\".format(base_mlp.score(x_test, y_test)))\n",
    "\n",
    "\n",
    "# Compute confusion matrix\n",
    "tuned_mlp_matrix = confusion_matrix(y_test, yhat_tuned_mlp, labels=[1,2,0])\n",
    "np.set_printoptions(precision=2)\n",
    "\n",
    "print (classification_report(y_test, yhat_tuned_mlp))\n",
    "\n",
    "# Plot normalized confusion matrix\n",
    "plt.figure()\n",
    "plot_confusion_matrix(tuned_mlp_matrix, classes=['First (1)','Second (2)', 'None (0)'],normalize= True,  title='Normalized confusion matrix\\n (Tuned MLP)')"
   ]
  },
  {
   "cell_type": "markdown",
   "metadata": {},
   "source": [
    "<hr>\n",
    "\n",
    "# False Predictions:\n",
    "\n",
    "By implementing four classifiers (__SVM, RF, XGB, MLP__), we obtained several confusion matrices and accuracy scores. The remaining task is to define a __criterion for choosing the best classifier__. A naive approach is to select the model which has the highest F-score or Jaccard index. However, such a naive criterion may not be precise from a business point of view. In particular, one should note that __the importance of different False Predictions is not similar__. For instance, a False Negative (FN) prediction that assigns \"0\" label to true labels \"1\" or \"2\" imposes a higher financial loss than a FN prediction that assigns \"1\" or \"2\" label to a true label \"0\" (simply because the former leads to ignoring some profitable customer groups, but, the latter leads to at most an ineffective campaign). Hence, for choosing the best classifier for business purposes, one may be better to concentrate on the 3×1 and 2×2 elements of the confusion matrices: __these two should be maximized__.\n",
    "\n",
    "<hr>\n",
    "\n",
    "- __Best Classifier__: It seems to be reasonable to accept the __MLP as our best candidate classifier__. Accordingly, for the rest of the notebook, I will focus on MLP and will combine it with the three regression models. \n",
    "\n",
    "\n",
    "\n",
    "- __Remark__: For future investigations, one suggestion is to record the cost of each campaign and add it to the dataset. By doing so, we would be able to evaluate the importance of the other FN predictions (e.g., 1×2 and 1×3 elements) and come up with more optimal classifiers.\n",
    "\n",
    "<hr>"
   ]
  },
  {
   "cell_type": "markdown",
   "metadata": {},
   "source": [
    "<h3 id=\"REG\">Multi Linear Regression (REG)</h3>\n",
    "\n",
    "As explained earlier, the basic idea of this section is to implement __three regression models corresponding to the three secondary features (g1_21, g2_21, c_28)__. We will then combine the predictions obtained from these regressions with the MLP classifier. \n"
   ]
  },
  {
   "cell_type": "code",
   "execution_count": null,
   "metadata": {},
   "outputs": [],
   "source": [
    "# First Regression Problem: Using g1_1,..., g1_20 to predict g1_21\n",
    "\n",
    "# Second Regression Problem: Using g2_1,..., g2_20 to predict g2_21\n",
    "\n",
    "# Third Regression Problem: Using c_1,..., c_27 to predict c_28\n",
    "\n",
    "\n",
    "\n",
    "\n",
    "#g1_train =(g1_1_train, g1_2_train,..., g1_20_train)\n",
    "#g2_train =(g2_1_train, g2_2_train,..., g2_20_train)\n",
    "#c_train =(c_1train, c_2train,..., c_27train)\n",
    "\n",
    "\n",
    "g1_train=X_train[:,0:20]\n",
    "g1_21train=X_train[:,20]\n",
    "g2_train=X_train[:,21:41]\n",
    "g2_21train=X_train[:,41]\n",
    "c_train=X_train[:,42:69]\n",
    "c_28train=X_train[:,69]\n",
    "\n",
    "\n",
    "#g1_test =(g1_1_test, g1_2_test,..., g1_20_test)\n",
    "#g2_test =(g2_1_test, g2_2_test,..., g2_20_test)\n",
    "#c_test =(c_1test, c_2test,..., c_27test)\n",
    "\n",
    "g1_test=X_test[:,0:20]\n",
    "g1_21test=X_test[:,20]\n",
    "g2_test=X_test[:,21:41]\n",
    "g2_21test=X_test[:,41]\n",
    "c_test=X_test[:,42:69]\n",
    "c_28test=X_test[:,69]\n",
    "\n",
    "target_train=y_train\n",
    "target_test=y_test\n",
    "\n",
    "\n",
    "reg1 = LinearRegression().fit(g1_train, g1_21train)\n",
    "reg2 = LinearRegression().fit(g2_train, g2_21train)\n",
    "reg3 = LinearRegression().fit(c_train, c_28train)\n",
    "\n",
    "\n",
    "g1_21predict_train= reg1.predict(g1_train)\n",
    "g2_21predict_train= reg2.predict(g2_train)\n",
    "c_28predict_train= reg3.predict(c_train)\n",
    "\n",
    "g1_21predict_test= reg1.predict(g1_test)\n",
    "g2_21predict_test= reg2.predict(g2_test)\n",
    "c_28predict_test= reg3.predict(c_test)\n",
    "\n",
    "\n",
    "X_Train= np.hstack((np.hstack((g1_train, g2_train, c_train)), np.vstack((g1_21predict_train, g2_21predict_train, c_28predict_train)).T))\n",
    "X_Test=np.hstack((np.hstack((g1_test, g2_test, c_test)), np.vstack((g1_21predict_test, g2_21predict_test, c_28predict_test)).T))\n",
    "\n",
    "Y_Train=y_train\n",
    "Y_Test=y_test\n",
    "\n",
    "\n",
    "print(\"Residual sum of squares for the first regression: %.2f\"\n",
    "      % np.mean((g1_21predict_test - g1_21test) ** 2))\n",
    "print('Variance score for the first regression: %.2f' % reg1.score(g1_test, g1_21test))\n",
    "\n",
    "\n",
    "print(\"Residual sum of squares for the second regression: %.2f\"\n",
    "      % np.mean((g2_21predict_test - g2_21test) ** 2))\n",
    "print('Variance score for the second regression: %.2f' % reg2.score(g2_test, g2_21test))\n",
    "\n",
    "\n",
    "print(\"Residual sum of squares for the third regression: %.2f\"\n",
    "      % np.mean((c_28predict_test - c_28test) ** 2))\n",
    "print('Variance score for the third regression: %.2f' % reg3.score(c_test, c_28test))\n",
    "\n",
    "\n"
   ]
  },
  {
   "cell_type": "markdown",
   "metadata": {},
   "source": [
    "# Remark:\n",
    "__Considering the fact that the above variance scores are high enough, we can assert that our three linear regressions are working well. In the next cell, we will combine the three regressions' predictions with the primary feature values. By doing so, we will have a new MLP classifier which accepts 70 variables as its inputs (the inputs of the new classifier are 67 \"actual\" primary features and 3 \"predicted\" secondary features). I will tune the hyperparameters of this new MLP and will compute its the confusion matrix.__"
   ]
  },
  {
   "cell_type": "code",
   "execution_count": null,
   "metadata": {},
   "outputs": [],
   "source": [
    "#Hyperparameter Optimization of the new MLP classifier; i.e., the combination of MLP with the three REGs (called REG_MLP)\n",
    "\n",
    "parameter_reg_mlp = {'solver': ['lbfgs'], 'max_iter': [100, 200, 300], 'alpha': [1e-5, 1e-3], 'hidden_layer_sizes': [(100,),(10, 20), (9,6,3)],'learning_rate': ['adaptive', 'constant']}\n",
    "\n",
    "reg_mlp= MLPClassifier()\n",
    "gs_reg_mlp = GridSearchCV(reg_mlp, parameter_reg_mlp, cv = 3, n_jobs=-1)\n",
    "gs_reg_mlp.fit(X_Train, Y_Train)\n",
    "\n",
    "\n",
    "print('Best score for training data:', gs_reg_mlp.best_score_)\n",
    "print('Best parameters found:\\n', gs_reg_mlp.best_params_)"
   ]
  },
  {
   "cell_type": "code",
   "execution_count": null,
   "metadata": {},
   "outputs": [],
   "source": [
    "#Hence the REG-MLP can be fine_tuned as follows: \n",
    "\n",
    "reg_mlp=MLPClassifier(solver='lbfgs', alpha=1e-3, hidden_layer_sizes=(9, 6, 3), max_iter=100, learning_rate='adaptive')\n",
    "\n",
    "reg_mlp.fit(X_Train, Y_Train)\n",
    "yhat_reg_mlp = reg_mlp.predict(X_Test)\n",
    "\n",
    "print(\"Training accuracy for the REG-MLP: {0:.3f}\".format(reg_mlp.score(X_Train, Y_Train)))\n",
    "print(\"Test accuracy for the REG-MLP: {0:.3f}\".format(reg_mlp.score(X_Test, Y_Test)))\n",
    "\n",
    "\n",
    "# Compute confusion matrix\n",
    "reg_mlp_matrix = confusion_matrix(Y_Test, yhat_reg_mlp, labels=[1,2,0])\n",
    "np.set_printoptions(precision=2)\n",
    "\n",
    "print (classification_report(Y_Test, yhat_reg_mlp))\n",
    "\n",
    "# Plot normalized confusion matrix\n",
    "plt.figure()\n",
    "plot_confusion_matrix(reg_mlp_matrix, classes=['First (1)','Second (2)', 'None (0)'],normalize= True,  title='Normalized confusion matrix\\n (Mixing Regressions with MLP)')"
   ]
  },
  {
   "cell_type": "markdown",
   "metadata": {},
   "source": [
    "<hr>\n",
    "\n",
    "<h1 id=\"API\">API</h1>\n",
    "\n",
    "\n",
    "The basic idea of the following API is as follows: \n",
    "\n",
    "- 1) To load a pre-trained classifier (in this example, REG-MLP),\n",
    "- 2) To import the data from a data path, \n",
    "- 3) To export the corresponding predictions to an output path."
   ]
  },
  {
   "cell_type": "code",
   "execution_count": null,
   "metadata": {},
   "outputs": [],
   "source": [
    "import flask\n",
    "import pickle\n",
    "import numpy as np\n",
    "\n",
    "from flask import request\n",
    "from flask import jsonify\n",
    "\n",
    "app = flask.Flask(__name__)\n",
    "app.config[\"DEBUG\"] = True\n",
    "\n",
    "model_path = \"http//127.0.0.1:5000/classifier\"\n",
    "model = pickle.load(model_path)\n",
    "\n",
    "@app.route('/reg_mlp', methods=['POST'])\n",
    "def classify():\n",
    "\n",
    "    req_data = request.get_json()\n",
    "    data = req_data['data']\n",
    "\n",
    "    x = np.asarray(data)\n",
    "    y = model.predict([x]) \n",
    "    y = [0]\n",
    "\n",
    "    res = {\"v\":\"0.0\", \"prediction\": y[0]}\n",
    "\n",
    "    return jsonify(res)\n",
    "\n",
    "app.run()"
   ]
  },
  {
   "cell_type": "markdown",
   "metadata": {},
   "source": [
    "<hr>\n",
    "<h1 id=\"Results\"> Final Results and Discusstion</h1>"
   ]
  },
  {
   "cell_type": "markdown",
   "metadata": {},
   "source": [
    "<hr>\n",
    "\n",
    "1. What percentage of campaigns led to group 1 being the most profitable? What about group 2? And neither of the groups?\n",
    "\n",
    "\n",
    "\n",
    "__Approximately, 46.47% and 28.35% of campaigns led to group 1 and group 2 being the most profitable, respectively. Moreover, 25.18% of the campaigns were completely unsuccessful.__\n",
    "\n",
    "<hr>\n",
    "\n",
    "\n",
    "2. Based on all the information you have, can you build a model to optimize future campaigns? Given the characteristics of two different groups of customers, please predict which group to target.\n",
    "\n",
    "__Yes! One can choose the last optimized model, i.e., the REG-MLP model. This model accepts the 67 primary features as its input; predicts the three secondary features; and then applies a MLP classification method to predict the corresponding target value for each campaign.__ \n",
    "\n",
    "<hr>\n",
    "\n",
    "\n",
    "3. By how much do you think your model could improve campaign success rates? How would you test that?\n",
    "\n",
    "__To test the prediction power of my REG-MLP model, one can check its confusion matrix. In particular, the diagonal elements of this matrix reflect the probability of correct predictions (True Positives) for each target value. The said probabilities for REG-MLP are 83% for group 1, 68% for group 2 and 7% for neither group.__ \n",
    "\n",
    "<hr>\n",
    "\n",
    "4. Optional: Can you write an API for your model that the marketing IT team can call?\n",
    "\n",
    "__Yes! Please check the above cells.__\n",
    "\n",
    "<hr>"
   ]
  },
  {
   "cell_type": "markdown",
   "metadata": {},
   "source": [
    "# Two Suggestions:\n",
    "\n",
    "1. __Causal Analysis__:\n",
    "\n",
    "The statistical analysis provided in this notebook becomes more precise if one supplements it with causal analysis. There are some powerful python packages for implementing causal analysis (e.g., __dowhy__ and __Causalinference__). However, to obtain meaningful and reliable conclusions, one must know the exact meaning of each column of the dataset. Such information is required in causal inference techniques because of the inherent definition of __causal intervention__, which can be applied only to a particular class of features.\n",
    "\n",
    "\n",
    "2. __Feature Selection__:\n",
    "\n",
    "As specified earlier, some features in the dataset are not highly correlated with the target variable. In contrast, some others are more important. To optimize the time and accuracy of our classification tasks, one option is to restrict the feature set by the famous feature selection techniques. An alternative choice is to gather more informative features. Both of these options can be easily performed if one knows the nature of each dataset's column.\n"
   ]
  }
 ],
 "metadata": {
  "kernelspec": {
   "display_name": "Python 3",
   "language": "python",
   "name": "python3"
  },
  "language_info": {
   "codemirror_mode": {
    "name": "ipython",
    "version": 3
   },
   "file_extension": ".py",
   "mimetype": "text/x-python",
   "name": "python",
   "nbconvert_exporter": "python",
   "pygments_lexer": "ipython3",
   "version": "3.8.5"
  }
 },
 "nbformat": 4,
 "nbformat_minor": 4
}
