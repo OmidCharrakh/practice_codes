{
 "cells": [
  {
   "cell_type": "code",
   "execution_count": 3,
   "metadata": {},
   "outputs": [],
   "source": [
    "import pandas as pd\n",
    "df = pd.read_csv('data/survey_results_public.csv')\n",
    "schema_df = pd.read_csv('data/survey_results_schema.csv')\n",
    "\n",
    "# The index can be changed when reading the csv\n",
    "df = pd.read_csv('data/survey_results_public.csv', index_col='Respondent')\n",
    "schema_df = pd.read_csv('data/survey_results_schema.csv', index_col='Column')\n",
    "\n",
    "# change disply setting for dataframe\n",
    "pd.set_option('display.max_columns', 15)\n",
    "pd.set_option('display.max_rows', 15)"
   ]
  },
  {
   "cell_type": "code",
   "execution_count": 10,
   "metadata": {},
   "outputs": [
    {
     "data": {
      "text/plain": [
       "(64461, 61)"
      ]
     },
     "execution_count": 10,
     "metadata": {},
     "output_type": "execute_result"
    }
   ],
   "source": [
    "df.head()  \n",
    "\n",
    "df.tail()\n",
    "\n",
    "# .shape is attribute --> .shape \n",
    "df.shape\n",
    "\n",
    "# .info is method --> .info()\n",
    "df.info()"
   ]
  },
  {
   "cell_type": "code",
   "execution_count": null,
   "metadata": {},
   "outputs": [],
   "source": [
    "# Counting the unique numbers of one column\n",
    "df['Hobbyist'].value_counts()\n",
    "\n",
    "# Slicing (providing a range for) some rows and columns)\n",
    "df.loc[0:2, 'Hobbyist':'Employment']\n",
    "\n",
    "# To sort the indecies \n",
    "schema_df.sort_index(ascending= True, inplace=False)"
   ]
  },
  {
   "cell_type": "code",
   "execution_count": null,
   "metadata": {},
   "outputs": [],
   "source": [
    "# Usual filter\n",
    "filt_1 = (df[\"ConvertedComp\"]>70000) \n",
    "df.loc[filt_1, ['Country', \"Age\"]]\n",
    "\n",
    "# .isin() methed \n",
    "countries= [\"United States\", \"United Kingdom\"]\n",
    "filt_2=df[\"Country\"].isin(countries)\n",
    "df.loc[filt_2, \"Country\"]\n",
    "\n",
    "# .str.contains() method\n",
    "filt_3 = df['LanguageWorkedWith'].str.contains('Python', na=False)\n",
    "dg=df.loc[filt_3]"
   ]
  },
  {
   "cell_type": "code",
   "execution_count": null,
   "metadata": {},
   "outputs": [],
   "source": [
    "# series of the 10 largets of a column\n",
    "df['ConvertedComp'].nlargest(10)\n",
    "\n",
    "# df of the 10 smallest values of a column\n",
    "df.nsmallest(10, 'ConvertedComp')"
   ]
  },
  {
   "cell_type": "code",
   "execution_count": null,
   "metadata": {},
   "outputs": [],
   "source": [
    "# median of a column\n",
    "df['ConvertedComp'].median()\n",
    "\n",
    "# median of (numerical columns of) df\n",
    "df.median()\n",
    "\n",
    "# statistical properties of (numerical columns of) df\n",
    "df.describe()\n",
    "\n",
    "# count of non-NaN values of a column\n",
    "df['ConvertedComp'].count()\n",
    "\n",
    "\n",
    "# percentage of counts of non-NaN unique values of a column\n",
    "df['Hobbyist'].value_counts(normalize=True)\n",
    "\n",
    "# define new column by fraction\n",
    "\n",
    "df['Fraction'] = (df['ConvertedComp']/df['WorkWeekHrs']) * 100\n",
    "\n",
    "# concatenation over columns \n",
    "new_df = pd.concat([country_respondents, country_uses_python], axis='columns', sort=False)"
   ]
  },
  {
   "cell_type": "markdown",
   "metadata": {},
   "source": [
    "## Grouping"
   ]
  },
  {
   "cell_type": "code",
   "execution_count": null,
   "metadata": {},
   "outputs": [],
   "source": [
    "# group df based on its column(s)\n",
    "country_grp = df.groupby(['Country'])\n",
    "\n",
    "# create new df with country==Germany \n",
    "country_grp.get_group('Germany')\n",
    "\n",
    "# median of a column of a grouped df\n",
    "country_grp['ConvertedComp'].median().loc['Germany']\n",
    "\n",
    "# aggregation of median and mean \n",
    "country_grp['ConvertedComp'].agg(['median', 'mean']).loc['Germany']"
   ]
  },
  {
   "cell_type": "markdown",
   "metadata": {},
   "source": [
    "## Read and Write Formats"
   ]
  },
  {
   "cell_type": "code",
   "execution_count": null,
   "metadata": {},
   "outputs": [],
   "source": [
    "# save csv\n",
    "df.to_csv('data/modified.csv', sep='\\t')\n",
    "\n",
    "# read csv\n",
    "pd.read_csv('data/modified.csv')"
   ]
  },
  {
   "cell_type": "markdown",
   "metadata": {},
   "source": [
    "## Missing\n",
    "\n"
   ]
  },
  {
   "cell_type": "code",
   "execution_count": null,
   "metadata": {},
   "outputs": [],
   "source": [
    "# convert all na_values to np.nan\n",
    "df = pd.read_csv('data/survey_results_public.csv', index_col='Respondent', na_values=['NA', 'Missing'])\n",
    "schema_df = pd.read_csv('data/survey_results_schema.csv', index_col='Column')\n",
    "\n",
    "\n",
    "### Complete Example:\n",
    "df['YearsCode'].unique()\n",
    "df['YearsCode'].replace('Less than 1 year', 0, inplace=True)\n",
    "df['YearsCode'].replace('More than 50 years', 51, inplace=True)\n",
    "df['YearsCode'] = df['YearsCode'].astype(float)\n",
    "df['YearsCode'].median()"
   ]
  },
  {
   "cell_type": "code",
   "execution_count": null,
   "metadata": {},
   "outputs": [],
   "source": []
  },
  {
   "cell_type": "code",
   "execution_count": null,
   "metadata": {},
   "outputs": [],
   "source": [
    "import pandas as pd\n",
    "import numpy as np\n",
    "\n",
    "my_dict = {\n",
    "    \"first\": [\"Corey\", 'Jane', 'John'], \n",
    "    \"last\": [\"Schafer\", 'Doe', 'Doe'], \n",
    "    \"email\": [\"CoreyMSchafer@gmail.com\", 'JaneDoe@email.com', 'JohnDoe@email.com']}\n",
    "\n",
    "preople_missing = {\n",
    "    'first': ['Corey', 'Jane', 'John', 'Chris', np.nan, None, 'NA'], \n",
    "    'last': ['Schafer', 'Doe', 'Doe', 'Schafer', np.nan, np.nan, 'Missing'], \n",
    "    'email': ['CoreyMSchafer@gmail.com', 'JaneDoe@email.com', 'JohnDoe@email.com', None, np.nan, 'Anonymous@email.com', 'NA'],\n",
    "    'age': ['33', '55', '63', '36', None, None, 'Missing']}\n",
    "\n",
    "df = pd.DataFrame(my_dict)"
   ]
  },
  {
   "cell_type": "code",
   "execution_count": null,
   "metadata": {},
   "outputs": [],
   "source": [
    "# Accessing one column of df = this is a pandas series <-- type(df['email'])\n",
    "df['email'] \n",
    "\n",
    "# Accessing two columns of df\n",
    "df[['last', 'email']]\n",
    "\n",
    "# Accessing all columns of df\n",
    "df.columns\n",
    "\n",
    "# Accessing one row of df = this is a pandas series <-- type(df.iloc[0])\n",
    "df.iloc[0]\n",
    "\n",
    "# Accessing two rows of df\n",
    "df.iloc[[0, 1]]\n",
    "\n",
    "# Accessing two rows of df, limited to the third column\n",
    "df.iloc[[0, 1], 2]"
   ]
  },
  {
   "cell_type": "code",
   "execution_count": null,
   "metadata": {},
   "outputs": [],
   "source": [
    "#.loc() takes \"names\"\n",
    "#.iloc() takes \"indecies\"\n",
    "\n",
    "df.loc[[0, 1], ['email', 'last']]"
   ]
  },
  {
   "cell_type": "code",
   "execution_count": null,
   "metadata": {},
   "outputs": [],
   "source": [
    "# To set the index to be 'email' column and fix it by \"inplace=True\"\n",
    "df.set_index('email', inplace=True)\n",
    "\n",
    "# To reset the index\n",
    "df.reset_index(inplace=True)\n",
    "\n",
    "# Check idecies\n",
    "df.index"
   ]
  },
  {
   "cell_type": "code",
   "execution_count": null,
   "metadata": {},
   "outputs": [],
   "source": [
    "# Creating a mask/filter (with boolean values) and applying it to df\n",
    "my_mask= (df['last'] == 'Doe')\n",
    "df[my_mask] \n",
    "\n",
    "# alternative \n",
    "df.loc[my_mask]\n",
    "\n",
    "# Logical AND , OR, NOT are & , |, ~\n",
    "filt_and = (df['last'] == 'Schafer') & (df['first'] == 'John')\n",
    "filt_or = ~(df['last'] == 'Schafer') | (df['first'] == 'John')\n",
    "df.loc[filt_or, 'email']"
   ]
  },
  {
   "cell_type": "code",
   "execution_count": null,
   "metadata": {},
   "outputs": [],
   "source": [
    "## Manipulate Columns\n",
    "# rename all columns \n",
    "df.columns = ['first_name', 'last_name', 'email']\n",
    "\n",
    "# list comprehetion \n",
    "df.columns = [x.lower() for x in df.columns]\n",
    "\n",
    "# str.replace() method\n",
    "df.columns = df.columns.str.replace(' ','_')\n",
    "\n",
    "# rename some columns \n",
    "df.rename(columns={'first_name': 'first', 'last_name': 'last'}, inplace=True)\n",
    "\n",
    "\n",
    "## Manipulate Rows\n",
    "# update a single row\n",
    "df.loc[2] = ['John', 'Smith', 'JohnSmith@email.com']\n",
    "\n",
    "# update some columns of a single row \n",
    "df.loc[2, ['last', 'email']] = ['Doe', 'JohnDoe@email.com']\n",
    "\n",
    "# lowering case the 'email' column\n",
    "df['email'].str.lower()"
   ]
  },
  {
   "cell_type": "markdown",
   "metadata": {},
   "source": [
    "## 4 usual methods to be applied to rows:\n",
    "\n",
    "- **apply**:    apply a function               (series and df)\n",
    "- **applymap**: apply a function               (only df)\n",
    "- **map**:      subistitue values with Nan     (only series)\n",
    "- **replace**:  subistitue values without Nan  (only series)"
   ]
  },
  {
   "cell_type": "code",
   "execution_count": null,
   "metadata": {},
   "outputs": [],
   "source": [
    "# Example of .apply for series\n",
    "df['email'].apply(len)\n",
    "def my_function(x):\n",
    "    return x.upper()\n",
    "df['email']=df['email'].apply(my_function)\n",
    "df['email'] = df['email'].apply(lambda x: x.lower())\n",
    "\n",
    "# Example of .apply for df\n",
    "df.apply(pd.Series.min)\n",
    "df.apply(lambda x: x.min())\n",
    "\n",
    "# Example of .applymap (only for df)\n",
    "df.applymap(len)\n",
    "df.applymap(str.lower)\n",
    "\n",
    "# Example of .map method (only series)\n",
    "df['first'].map({'Corey': True, 'Jane': False})\n",
    "\n",
    "# Example of .replace method (only series)\n",
    "df['first'].replace({'Corey': True, 'Jane': False})"
   ]
  },
  {
   "cell_type": "code",
   "execution_count": null,
   "metadata": {},
   "outputs": [],
   "source": [
    "# adding a column \n",
    "df['Full_name'] = df['first'] + '_' + df['last']\n",
    "\n",
    "# adding a row \n",
    "df.append({'first': 'Tony'}, ignore_index=True)\n",
    "\n",
    "# removing a column\n",
    "df.drop(columns=['Full_name'], inplace=True)\n",
    "\n",
    "# removing a row\n",
    "df.drop(index=4)\n",
    "\n",
    "# removing rows by filtering indecies:\n",
    "filt = (df['last'] == 'Doe')\n",
    "df.drop(index=df[filt].index)\n",
    "\n",
    "# merging two dataframes\n",
    "df_merged = df.append(df2, ignore_index=True, sort=False)"
   ]
  },
  {
   "cell_type": "code",
   "execution_count": null,
   "metadata": {},
   "outputs": [],
   "source": [
    "# sort df by one column\n",
    "df.sort_values(by='last', ascending=False)\n",
    "\n",
    "# sort df by multiple columns with different rules\n",
    "df.sort_values(by=['last', 'first'], ascending=[False, True], inplace=True)\n",
    "\n",
    "# sort df by index\n",
    "df.sort_index()"
   ]
  },
  {
   "cell_type": "markdown",
   "metadata": {},
   "source": [
    "## Missing Data\n",
    "\n",
    "First convert others to np.nan. If df from dictionary:\n",
    "- df.replace('NA', np.nan, inplace=True)\n",
    "- df.replace('Missing', np.nan, inplace=True)\n",
    "\n",
    "If df from csv file:\n",
    "- df = pd.read_csv('file.csv', na_values=['NA', 'Missing'])"
   ]
  },
  {
   "cell_type": "code",
   "execution_count": null,
   "metadata": {},
   "outputs": [],
   "source": [
    "df = pd.DataFrame(people_missing)\n",
    "\n",
    "# delete all np.nan values\n",
    "df.dropna()\n",
    "\n",
    "# \"axis\" = index or columns; \"how\" = all or any; \"subset\" = which columns should be cared?\n",
    "df.dropna(axis='index', how='all', subset=['last', 'email'], inplace=False)\n",
    "\n",
    "# boolean\n",
    "df.isna()\n",
    "\n",
    "# fill np.nan with some value\n",
    "df.fillna(0)\n",
    "\n",
    "# convert to float \n",
    "df['age'] = df['age'].astype(float)\n",
    "\n",
    "### Complete Example:\n",
    "df.replace('NA', np.nan, inplace=True)\n",
    "df.replace('Missing', np.nan, inplace=True)\n",
    "# If type(df['age'])=str => convert to float (check it by df.dtypes)\n",
    "df['age'] = df['age'].astype(float)\n",
    "# Replacing df['age'] np.nan values with .mean()\n",
    "df['age'].replace(np.nan, df['age'].mean())"
   ]
  }
 ],
 "metadata": {
  "kernelspec": {
   "display_name": "Python 3",
   "language": "python",
   "name": "python3"
  },
  "language_info": {
   "codemirror_mode": {
    "name": "ipython",
    "version": 3
   },
   "file_extension": ".py",
   "mimetype": "text/x-python",
   "name": "python",
   "nbconvert_exporter": "python",
   "pygments_lexer": "ipython3",
   "version": "3.8.5"
  }
 },
 "nbformat": 4,
 "nbformat_minor": 4
}
