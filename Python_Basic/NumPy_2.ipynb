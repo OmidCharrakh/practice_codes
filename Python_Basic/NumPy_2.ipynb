{
 "cells": [
  {
   "cell_type": "markdown",
   "metadata": {},
   "source": [
    "### Dimension, Shape, Size"
   ]
  },
  {
   "cell_type": "code",
   "execution_count": 58,
   "metadata": {},
   "outputs": [
    {
     "data": {
      "text/plain": [
       "(2, 3, 1)"
      ]
     },
     "execution_count": 58,
     "metadata": {},
     "output_type": "execute_result"
    }
   ],
   "source": [
    "import numpy as np\n",
    "\n",
    "# create array\n",
    "a = np.array([1,2,3], dtype='int32') # 1D <== a.ndim=1\n",
    "b = np.array([ [9.0,8.0,7.0],[6.0,5.0,4] ]) # 2D <== b.ndim=2\n",
    "c = np.array([ [[1],[3],[4]] , [[5],[7],[2]] ]) # 3D <== c.ndim=3\n",
    "\n",
    "# type = dtype('float64')\n",
    "b.dtype\n",
    "\n",
    "# number of elements = 6\n",
    "b.size\n",
    "\n",
    "# dimension = 2\n",
    "b.ndim\n",
    "\n",
    "# shape = (2, 3, 1)\n",
    "c.shape"
   ]
  },
  {
   "cell_type": "markdown",
   "metadata": {},
   "source": [
    "### Accese Elements, Rows, Columns"
   ]
  },
  {
   "cell_type": "code",
   "execution_count": 79,
   "metadata": {},
   "outputs": [
    {
     "name": "stdout",
     "output_type": "stream",
     "text": [
      "[2 4 6]\n"
     ]
    }
   ],
   "source": [
    "d= np.array([[1,2,3,4,5,6,7],[8,9,10,11,12,13,14]])\n",
    "\n",
    "# Get a specific element \n",
    "d[1, 5]\n",
    "\n",
    "# Get a specific row \n",
    "d[0, :]\n",
    "\n",
    "# Get a specific column\n",
    "d[:, 2]\n",
    "\n",
    "# Fancy [start:end:step]\n",
    "print(d[0, 1:-1:2])\n",
    "\n",
    "# change elements\n",
    "d[1,5] = 20\n",
    "d[:,2] = [1,2]\n",
    "\n",
    "# 3D array\n",
    "c = np.array([[[1,2],[3,4]],[[5,6],[7,8]]]) \n",
    "\n",
    "# Get specific element\n",
    "print(c[0,1,1])\n",
    "\n",
    "# replace \n",
    "c[:,1,:] = [[9,9],[8,8]]\n",
    "\n",
    "print(c)"
   ]
  },
  {
   "cell_type": "markdown",
   "metadata": {},
   "source": [
    "### Initialize Different Arrays"
   ]
  },
  {
   "cell_type": "code",
   "execution_count": 159,
   "metadata": {},
   "outputs": [
    {
     "name": "stdout",
     "output_type": "stream",
     "text": [
      "[[1 2 3 4]\n",
      " [5 6 7 8]]\n",
      "[1 2 3 4 5 6 7 8]\n"
     ]
    }
   ],
   "source": [
    "# All 0 matrix\n",
    "np.zeros((2,3))\n",
    "\n",
    "# All 1 matrix\n",
    "np.ones((4,2,2), dtype='int32')\n",
    "\n",
    "# Identity matrix\n",
    "np.identity(5)\n",
    "\n",
    "# 2*2 matrix full of 99\n",
    "np.full((2,2), 99)\n",
    "\n",
    "# d.shape matrix full of 99 \n",
    "np.full_like(d, 99)\n",
    "\n",
    "# lD array start:end:count \n",
    "np.linspace(5, 15, 3) # array([ 5., 10., 15.])\n",
    "\n",
    "# 1D array from 0 to 4 \n",
    "np.arange(5) # array([0, 1, 2, 3, 4])\n",
    "\n",
    "# 100 random numbers with normal distribution (mean 0 and variance 1)\n",
    "np.random.randn(100)\n",
    "\n",
    "#N(mu, sigma^2)= sigma * np.random.randn() + mu\n",
    "10* np.random.randn(100) +20 # 100 Gaussian distributin  \n",
    "\n",
    "# 4*2 matrix of 0<rand<1\n",
    "np.random.rand(4,2)\n",
    "np.random.random_sample((4,2))\n",
    "\n",
    "# 3*3 matrix of -4<int_rand<8\n",
    "np.random.randint(-4,8, size=(3,3))\n",
    "np.random.randint(0,30,5)\n",
    "# Repeat an array\n",
    "x = np.array([[1,2,3]])\n",
    "y = np.repeat(x,3, axis=0)\n",
    "\n",
    "# Copy an array\n",
    "z=y.copy()\n",
    "\n",
    "# reshape\n",
    "A = np.array([[1,2,3,4],[5,6,7,8]])\n",
    "A.reshape((1,4,2))\n",
    "\n",
    "\n",
    "v1 = np.array([1,2,3,4])\n",
    "v2 = np.array([5,6,7,8])\n",
    "\n",
    "# Vertical stack\n",
    "print(np.vstack((v1,v2)))\n",
    "\n",
    "# Horizontal stack\n",
    "print(np.hstack((v1,v2)))\n"
   ]
  },
  {
   "cell_type": "markdown",
   "metadata": {},
   "source": [
    "### Mathematics, Linear Algebra, Statistics"
   ]
  },
  {
   "cell_type": "code",
   "execution_count": null,
   "metadata": {},
   "outputs": [],
   "source": [
    "a = np.array([1,2,3,4])\n",
    "b = np.array([1,0,1,0])\n",
    "\n",
    "a + 2   # = array([3, 4, 5, 6])\n",
    "a ** 2  # = array([1, 4, 9, 16])\n",
    "a + b   # = array([2, 2, 4, 4])\n",
    "np.cos(a)  \n",
    "\n",
    "#https://docs.scipy.org/doc/numpy/reference/routines.math.html\n",
    "\n",
    "from numpy import linalg\n",
    "\n",
    "a = np.ones((2,3))\n",
    "b = np.full((3,2), 2)\n",
    "\n",
    "# Matrix Multiplication\n",
    "c = np.matmul(a,b)\n",
    "\n",
    "# Matrix Determinant\n",
    "np.linalg.det(c)\n",
    "\n",
    "# Trace\n",
    "np.trace(c)\n",
    "\n",
    "# Eigenvectors\n",
    "linalg.eig(c)\n",
    "\n",
    "# Singular Vector Decomposition, Eigenvalues, Matrix Norm, Inverse\n",
    "# https://docs.scipy.org/doc/numpy/reference/routines.linalg.html\n",
    "\n",
    "stats = np.array([[1,8,3],[4,5,6]])\n",
    "np.min(stats)\n",
    "np.max(stats, axis=0)\n",
    "np.sum(stats, axis=1)"
   ]
  },
  {
   "cell_type": "markdown",
   "metadata": {},
   "source": [
    "### Load File and Mask"
   ]
  },
  {
   "cell_type": "code",
   "execution_count": 175,
   "metadata": {},
   "outputs": [
    {
     "name": "stdout",
     "output_type": "stream",
     "text": [
      "[196   4   8   0   4  12   4   4   4   0  12   0   8  76  88]\n"
     ]
    }
   ],
   "source": [
    "# read txt, convert into integer \n",
    "d = np.genfromtxt('data.txt', delimiter=',')\n",
    "d = d.astype('int32')\n",
    "\n",
    "# Masking and Filtering\n",
    "filt1= (~((d > 50) & (d < 100)))\n",
    "filt2 = (d % 4 == 0)\n",
    "print(d[filt2])"
   ]
  },
  {
   "cell_type": "code",
   "execution_count": 186,
   "metadata": {},
   "outputs": [
    {
     "data": {
      "text/plain": [
       "array([[ 4.,  5.],\n",
       "       [24., 25.],\n",
       "       [29., 30.]])"
      ]
     },
     "execution_count": 186,
     "metadata": {},
     "output_type": "execute_result"
    }
   ],
   "source": [
    "d= np.linspace(1, 30, 30).reshape(6, 5)\n",
    "\n",
    "d[[0, 4, 5], 3:]"
   ]
  }
 ],
 "metadata": {
  "kernelspec": {
   "display_name": "Python 3",
   "language": "python",
   "name": "python3"
  },
  "language_info": {
   "codemirror_mode": {
    "name": "ipython",
    "version": 3
   },
   "file_extension": ".py",
   "mimetype": "text/x-python",
   "name": "python",
   "nbconvert_exporter": "python",
   "pygments_lexer": "ipython3",
   "version": "3.8.5"
  }
 },
 "nbformat": 4,
 "nbformat_minor": 2
}
